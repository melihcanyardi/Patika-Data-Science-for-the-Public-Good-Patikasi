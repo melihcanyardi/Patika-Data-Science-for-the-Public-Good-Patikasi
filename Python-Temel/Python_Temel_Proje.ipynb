{
 "cells": [
  {
   "cell_type": "markdown",
   "metadata": {},
   "source": [
    "1- Bir listeyi düzleştiren (flatten) fonksiyon yazın. Elemanları birden çok katmanlı listlerden ([[3],2] gibi) oluşabileceği gibi, non-scalar verilerden de oluşabilir. Örnek olarak:\n",
    "\n",
    "input: [[1,'a',['cat'],2],[[[3]],'dog'],4,5]\n",
    "\n",
    "output: [1,'a','cat',2,3,'dog',4,5]"
   ]
  },
  {
   "cell_type": "code",
   "execution_count": 1,
   "metadata": {},
   "outputs": [],
   "source": [
    "def flatten_list(some_list):\n",
    "    \n",
    "    while True:\n",
    "        flattened_list = []\n",
    "            \n",
    "        for element in some_list:\n",
    "            if type(element) != list:\n",
    "                flattened_list.append(element)\n",
    "            else:\n",
    "                for item in element:\n",
    "                    flattened_list.append(item)\n",
    "        some_list = flattened_list\n",
    "        \n",
    "        list_types = []\n",
    "        for element in some_list:\n",
    "            list_types.append(type(element))\n",
    "        if list not in list_types:\n",
    "            break\n",
    "\n",
    "    return some_list         "
   ]
  },
  {
   "cell_type": "code",
   "execution_count": 2,
   "metadata": {},
   "outputs": [],
   "source": [
    "example_list = [[1,'a',['cat'],2],[[[3]],'dog'],4,5]"
   ]
  },
  {
   "cell_type": "code",
   "execution_count": 3,
   "metadata": {},
   "outputs": [
    {
     "name": "stdout",
     "output_type": "stream",
     "text": [
      "Example list:   [[1, 'a', ['cat'], 2], [[[3]], 'dog'], 4, 5]\n",
      "Flattened list: [1, 'a', 'cat', 2, 3, 'dog', 4, 5]\n"
     ]
    }
   ],
   "source": [
    "print(f\"Example list:   {example_list}\")\n",
    "print(f\"Flattened list: {flatten_list(example_list)}\")"
   ]
  },
  {
   "cell_type": "markdown",
   "metadata": {},
   "source": [
    "2- Verilen listenin içindeki elemanları tersine döndüren bir fonksiyon yazın. Eğer listenin içindeki elemanlar da liste içeriyorsa onların elemanlarını da tersine döndürün. Örnek olarak:\n",
    "\n",
    "input: [[1, 2], [3, 4], [5, 6, 7]]\n",
    "\n",
    "output: [[[7, 6, 5], [4, 3], [2, 1]]"
   ]
  },
  {
   "cell_type": "code",
   "execution_count": 4,
   "metadata": {},
   "outputs": [],
   "source": [
    "def reverse_list(some_list):\n",
    "    \n",
    "    new_list = []\n",
    "    \n",
    "    for element in some_list[::-1]:\n",
    "        if type(element) == list:\n",
    "            new_list.append(element[::-1])\n",
    "        else:\n",
    "            new_list.append(element)\n",
    "            \n",
    "    return new_list"
   ]
  },
  {
   "cell_type": "code",
   "execution_count": 5,
   "metadata": {},
   "outputs": [],
   "source": [
    "example_list = [[1, 2], [3, 4], [5, 6, 7]]"
   ]
  },
  {
   "cell_type": "code",
   "execution_count": 6,
   "metadata": {},
   "outputs": [
    {
     "name": "stdout",
     "output_type": "stream",
     "text": [
      "Example list:   [[1, 2], [3, 4], [5, 6, 7]]\n",
      "Flattened list: [[7, 6, 5], [4, 3], [2, 1]]\n"
     ]
    }
   ],
   "source": [
    "print(f\"Example list:   {example_list}\")\n",
    "print(f\"Flattened list: {reverse_list(example_list)}\")"
   ]
  }
 ],
 "metadata": {
  "kernelspec": {
   "display_name": "Python 3",
   "language": "python",
   "name": "python3"
  },
  "language_info": {
   "codemirror_mode": {
    "name": "ipython",
    "version": 3
   },
   "file_extension": ".py",
   "mimetype": "text/x-python",
   "name": "python",
   "nbconvert_exporter": "python",
   "pygments_lexer": "ipython3",
   "version": "3.8.5"
  }
 },
 "nbformat": 4,
 "nbformat_minor": 4
}
