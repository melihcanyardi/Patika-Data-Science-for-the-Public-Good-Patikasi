{
 "cells": [
  {
   "cell_type": "markdown",
   "id": "c425f4c3",
   "metadata": {},
   "source": [
    "# Kategorik Değişken Dönüşüm"
   ]
  },
  {
   "cell_type": "code",
   "execution_count": 1,
   "id": "c0d72e60",
   "metadata": {},
   "outputs": [],
   "source": [
    "from sklearn.ensemble import RandomForestRegressor\n",
    "from IPython.display import display\n",
    "\n",
    "from sklearn import metrics"
   ]
  },
  {
   "cell_type": "code",
   "execution_count": 2,
   "id": "d1a8e4c0",
   "metadata": {},
   "outputs": [],
   "source": [
    "import pandas as pd\n",
    "import numpy as np"
   ]
  },
  {
   "cell_type": "code",
   "execution_count": 3,
   "id": "9bb52b06",
   "metadata": {},
   "outputs": [],
   "source": [
    "import math"
   ]
  },
  {
   "cell_type": "code",
   "execution_count": 4,
   "id": "05049b40",
   "metadata": {},
   "outputs": [],
   "source": [
    "from pandas.api.types import is_string_dtype\n",
    "from pandas.api.types import is_numeric_dtype"
   ]
  },
  {
   "cell_type": "code",
   "execution_count": 5,
   "id": "19d395c3",
   "metadata": {},
   "outputs": [],
   "source": [
    "PATH = \"data/bulldozers/\""
   ]
  },
  {
   "cell_type": "code",
   "execution_count": 6,
   "id": "14fbc716",
   "metadata": {},
   "outputs": [],
   "source": [
    "df = pd.read_csv(f'{PATH}Train.csv', low_memory=False, parse_dates=[\"saledate\"])"
   ]
  },
  {
   "cell_type": "code",
   "execution_count": 7,
   "id": "6a3cfe33",
   "metadata": {},
   "outputs": [],
   "source": [
    "df = df.sort_values(by=\"saledate\").reset_index(drop=True)"
   ]
  },
  {
   "cell_type": "code",
   "execution_count": 8,
   "id": "e27806dc",
   "metadata": {},
   "outputs": [
    {
     "data": {
      "text/html": [
       "<div>\n",
       "<style scoped>\n",
       "    .dataframe tbody tr th:only-of-type {\n",
       "        vertical-align: middle;\n",
       "    }\n",
       "\n",
       "    .dataframe tbody tr th {\n",
       "        vertical-align: top;\n",
       "    }\n",
       "\n",
       "    .dataframe thead th {\n",
       "        text-align: right;\n",
       "    }\n",
       "</style>\n",
       "<table border=\"1\" class=\"dataframe\">\n",
       "  <thead>\n",
       "    <tr style=\"text-align: right;\">\n",
       "      <th></th>\n",
       "      <th>SalesID</th>\n",
       "      <th>SalePrice</th>\n",
       "      <th>MachineID</th>\n",
       "      <th>ModelID</th>\n",
       "      <th>datasource</th>\n",
       "      <th>auctioneerID</th>\n",
       "      <th>YearMade</th>\n",
       "      <th>MachineHoursCurrentMeter</th>\n",
       "      <th>UsageBand</th>\n",
       "      <th>saledate</th>\n",
       "      <th>...</th>\n",
       "      <th>Undercarriage_Pad_Width</th>\n",
       "      <th>Stick_Length</th>\n",
       "      <th>Thumb</th>\n",
       "      <th>Pattern_Changer</th>\n",
       "      <th>Grouser_Type</th>\n",
       "      <th>Backhoe_Mounting</th>\n",
       "      <th>Blade_Type</th>\n",
       "      <th>Travel_Controls</th>\n",
       "      <th>Differential_Type</th>\n",
       "      <th>Steering_Controls</th>\n",
       "    </tr>\n",
       "  </thead>\n",
       "  <tbody>\n",
       "    <tr>\n",
       "      <th>0</th>\n",
       "      <td>1646770</td>\n",
       "      <td>9500</td>\n",
       "      <td>1126363</td>\n",
       "      <td>8434</td>\n",
       "      <td>132</td>\n",
       "      <td>18.0</td>\n",
       "      <td>1974</td>\n",
       "      <td>NaN</td>\n",
       "      <td>NaN</td>\n",
       "      <td>1989-01-17</td>\n",
       "      <td>...</td>\n",
       "      <td>NaN</td>\n",
       "      <td>NaN</td>\n",
       "      <td>NaN</td>\n",
       "      <td>NaN</td>\n",
       "      <td>NaN</td>\n",
       "      <td>None or Unspecified</td>\n",
       "      <td>Straight</td>\n",
       "      <td>None or Unspecified</td>\n",
       "      <td>NaN</td>\n",
       "      <td>NaN</td>\n",
       "    </tr>\n",
       "    <tr>\n",
       "      <th>1</th>\n",
       "      <td>1404019</td>\n",
       "      <td>24000</td>\n",
       "      <td>1169900</td>\n",
       "      <td>7110</td>\n",
       "      <td>132</td>\n",
       "      <td>99.0</td>\n",
       "      <td>1986</td>\n",
       "      <td>NaN</td>\n",
       "      <td>NaN</td>\n",
       "      <td>1989-01-31</td>\n",
       "      <td>...</td>\n",
       "      <td>NaN</td>\n",
       "      <td>NaN</td>\n",
       "      <td>NaN</td>\n",
       "      <td>NaN</td>\n",
       "      <td>NaN</td>\n",
       "      <td>NaN</td>\n",
       "      <td>NaN</td>\n",
       "      <td>NaN</td>\n",
       "      <td>NaN</td>\n",
       "      <td>NaN</td>\n",
       "    </tr>\n",
       "    <tr>\n",
       "      <th>2</th>\n",
       "      <td>1415646</td>\n",
       "      <td>35000</td>\n",
       "      <td>1262088</td>\n",
       "      <td>3357</td>\n",
       "      <td>132</td>\n",
       "      <td>99.0</td>\n",
       "      <td>1975</td>\n",
       "      <td>NaN</td>\n",
       "      <td>NaN</td>\n",
       "      <td>1989-01-31</td>\n",
       "      <td>...</td>\n",
       "      <td>NaN</td>\n",
       "      <td>NaN</td>\n",
       "      <td>NaN</td>\n",
       "      <td>NaN</td>\n",
       "      <td>NaN</td>\n",
       "      <td>NaN</td>\n",
       "      <td>NaN</td>\n",
       "      <td>NaN</td>\n",
       "      <td>NaN</td>\n",
       "      <td>NaN</td>\n",
       "    </tr>\n",
       "    <tr>\n",
       "      <th>3</th>\n",
       "      <td>1596358</td>\n",
       "      <td>19000</td>\n",
       "      <td>1433229</td>\n",
       "      <td>8247</td>\n",
       "      <td>132</td>\n",
       "      <td>99.0</td>\n",
       "      <td>1978</td>\n",
       "      <td>NaN</td>\n",
       "      <td>NaN</td>\n",
       "      <td>1989-01-31</td>\n",
       "      <td>...</td>\n",
       "      <td>NaN</td>\n",
       "      <td>NaN</td>\n",
       "      <td>NaN</td>\n",
       "      <td>NaN</td>\n",
       "      <td>NaN</td>\n",
       "      <td>NaN</td>\n",
       "      <td>NaN</td>\n",
       "      <td>NaN</td>\n",
       "      <td>Standard</td>\n",
       "      <td>Conventional</td>\n",
       "    </tr>\n",
       "    <tr>\n",
       "      <th>4</th>\n",
       "      <td>1821514</td>\n",
       "      <td>14000</td>\n",
       "      <td>1194089</td>\n",
       "      <td>10150</td>\n",
       "      <td>132</td>\n",
       "      <td>99.0</td>\n",
       "      <td>1980</td>\n",
       "      <td>NaN</td>\n",
       "      <td>NaN</td>\n",
       "      <td>1989-01-31</td>\n",
       "      <td>...</td>\n",
       "      <td>NaN</td>\n",
       "      <td>NaN</td>\n",
       "      <td>NaN</td>\n",
       "      <td>NaN</td>\n",
       "      <td>NaN</td>\n",
       "      <td>NaN</td>\n",
       "      <td>NaN</td>\n",
       "      <td>NaN</td>\n",
       "      <td>Standard</td>\n",
       "      <td>Conventional</td>\n",
       "    </tr>\n",
       "  </tbody>\n",
       "</table>\n",
       "<p>5 rows × 53 columns</p>\n",
       "</div>"
      ],
      "text/plain": [
       "   SalesID  SalePrice  MachineID  ModelID  datasource  auctioneerID  YearMade  \\\n",
       "0  1646770       9500    1126363     8434         132          18.0      1974   \n",
       "1  1404019      24000    1169900     7110         132          99.0      1986   \n",
       "2  1415646      35000    1262088     3357         132          99.0      1975   \n",
       "3  1596358      19000    1433229     8247         132          99.0      1978   \n",
       "4  1821514      14000    1194089    10150         132          99.0      1980   \n",
       "\n",
       "   MachineHoursCurrentMeter UsageBand   saledate  ... Undercarriage_Pad_Width  \\\n",
       "0                       NaN       NaN 1989-01-17  ...                     NaN   \n",
       "1                       NaN       NaN 1989-01-31  ...                     NaN   \n",
       "2                       NaN       NaN 1989-01-31  ...                     NaN   \n",
       "3                       NaN       NaN 1989-01-31  ...                     NaN   \n",
       "4                       NaN       NaN 1989-01-31  ...                     NaN   \n",
       "\n",
       "  Stick_Length Thumb Pattern_Changer Grouser_Type     Backhoe_Mounting  \\\n",
       "0          NaN   NaN             NaN          NaN  None or Unspecified   \n",
       "1          NaN   NaN             NaN          NaN                  NaN   \n",
       "2          NaN   NaN             NaN          NaN                  NaN   \n",
       "3          NaN   NaN             NaN          NaN                  NaN   \n",
       "4          NaN   NaN             NaN          NaN                  NaN   \n",
       "\n",
       "  Blade_Type      Travel_Controls Differential_Type Steering_Controls  \n",
       "0   Straight  None or Unspecified               NaN               NaN  \n",
       "1        NaN                  NaN               NaN               NaN  \n",
       "2        NaN                  NaN               NaN               NaN  \n",
       "3        NaN                  NaN          Standard      Conventional  \n",
       "4        NaN                  NaN          Standard      Conventional  \n",
       "\n",
       "[5 rows x 53 columns]"
      ]
     },
     "execution_count": 8,
     "metadata": {},
     "output_type": "execute_result"
    }
   ],
   "source": [
    "df.head()"
   ]
  },
  {
   "cell_type": "markdown",
   "id": "202582a8",
   "metadata": {},
   "source": [
    "## RMSLE"
   ]
  },
  {
   "cell_type": "code",
   "execution_count": 9,
   "id": "2ab3951d",
   "metadata": {},
   "outputs": [],
   "source": [
    "#df[\"SalePrice\"] = np.log(df.SalePrice)"
   ]
  },
  {
   "cell_type": "code",
   "execution_count": 10,
   "id": "62861fc4",
   "metadata": {},
   "outputs": [],
   "source": [
    "#m = RandomForestRegressor(n_jobs=-1)\n",
    "#m.fit(df.drop('SalePrice', axis=1), df.SalePrice)"
   ]
  },
  {
   "cell_type": "markdown",
   "id": "8cd5b8bc",
   "metadata": {},
   "source": [
    "## Kategorik Değişkenleri Sayısal Hale Getirmek"
   ]
  },
  {
   "cell_type": "code",
   "execution_count": 11,
   "id": "dd8740ae",
   "metadata": {},
   "outputs": [
    {
     "data": {
      "text/plain": [
       "0         NaN\n",
       "1         NaN\n",
       "2         NaN\n",
       "3         NaN\n",
       "4         NaN\n",
       "         ... \n",
       "401120    NaN\n",
       "401121    NaN\n",
       "401122    NaN\n",
       "401123    NaN\n",
       "401124    NaN\n",
       "Name: UsageBand, Length: 401125, dtype: object"
      ]
     },
     "execution_count": 11,
     "metadata": {},
     "output_type": "execute_result"
    }
   ],
   "source": [
    "df[\"UsageBand\"]"
   ]
  },
  {
   "cell_type": "code",
   "execution_count": 12,
   "id": "d1f5da10",
   "metadata": {},
   "outputs": [
    {
     "name": "stdout",
     "output_type": "stream",
     "text": [
      "SalesID\n",
      "-------\n",
      "0         1646770\n",
      "1         1404019\n",
      "2         1415646\n",
      "3         1596358\n",
      "4         1821514\n",
      "           ...   \n",
      "401120    6260878\n",
      "401121    6288376\n",
      "401122    6258093\n",
      "401123    6315563\n",
      "401124    6312170\n",
      "Name: SalesID, Length: 401125, dtype: int64\n"
     ]
    }
   ],
   "source": [
    "for n, c in df.items():\n",
    "    print(n)\n",
    "    print(\"-------\")\n",
    "    print(c)\n",
    "    break"
   ]
  },
  {
   "cell_type": "code",
   "execution_count": 13,
   "id": "65c507dd",
   "metadata": {},
   "outputs": [],
   "source": [
    "# string dtype'ı olan columnları pandas category tipine çevirir\n",
    "def train_cats(df):\n",
    "    for n, c in df.items():\n",
    "        if is_string_dtype(c):\n",
    "            df[n] = c.astype(\"category\").cat.as_ordered()"
   ]
  },
  {
   "cell_type": "code",
   "execution_count": 14,
   "id": "a5027f29",
   "metadata": {},
   "outputs": [],
   "source": [
    "# train set'e train_cats uygulandıktan sonra aynı category değişimlerim olsun diye validation train'e bu uygulanır\n",
    "def apply_cats(df, train):\n",
    "    for n, c in df.items():\n",
    "        if train[n].dtype == \"category\":\n",
    "            df[n] = pd.Categorical(c, categories = train[n].cat.categories, ordered = True)"
   ]
  },
  {
   "cell_type": "code",
   "execution_count": 15,
   "id": "4cddf84c",
   "metadata": {},
   "outputs": [],
   "source": [
    "train_cats(df)"
   ]
  },
  {
   "cell_type": "code",
   "execution_count": 16,
   "id": "61428567",
   "metadata": {},
   "outputs": [
    {
     "data": {
      "text/plain": [
       "0         NaN\n",
       "1         NaN\n",
       "2         NaN\n",
       "3         NaN\n",
       "4         NaN\n",
       "         ... \n",
       "401120    NaN\n",
       "401121    NaN\n",
       "401122    NaN\n",
       "401123    NaN\n",
       "401124    NaN\n",
       "Name: UsageBand, Length: 401125, dtype: category\n",
       "Categories (3, object): ['High' < 'Low' < 'Medium']"
      ]
     },
     "execution_count": 16,
     "metadata": {},
     "output_type": "execute_result"
    }
   ],
   "source": [
    "df[\"UsageBand\"]"
   ]
  },
  {
   "cell_type": "code",
   "execution_count": 17,
   "id": "3333a6bb",
   "metadata": {},
   "outputs": [
    {
     "data": {
      "text/plain": [
       "Index(['High', 'Low', 'Medium'], dtype='object')"
      ]
     },
     "execution_count": 17,
     "metadata": {},
     "output_type": "execute_result"
    }
   ],
   "source": [
    "df[\"UsageBand\"].cat.categories"
   ]
  },
  {
   "cell_type": "code",
   "execution_count": 18,
   "id": "38b573cd",
   "metadata": {},
   "outputs": [],
   "source": [
    "df[\"UsageBand\"].cat.set_categories([\"High\", \"Medium\", \"Low\"], ordered = True, inplace = True)"
   ]
  },
  {
   "cell_type": "code",
   "execution_count": 19,
   "id": "ba33e39c",
   "metadata": {},
   "outputs": [
    {
     "data": {
      "text/plain": [
       "Index(['High', 'Medium', 'Low'], dtype='object')"
      ]
     },
     "execution_count": 19,
     "metadata": {},
     "output_type": "execute_result"
    }
   ],
   "source": [
    "df[\"UsageBand\"].cat.categories"
   ]
  },
  {
   "cell_type": "code",
   "execution_count": 20,
   "id": "91e7e4a2",
   "metadata": {},
   "outputs": [
    {
     "data": {
      "text/plain": [
       "0        -1\n",
       "1        -1\n",
       "2        -1\n",
       "3        -1\n",
       "4        -1\n",
       "         ..\n",
       "401120   -1\n",
       "401121   -1\n",
       "401122   -1\n",
       "401123   -1\n",
       "401124   -1\n",
       "Length: 401125, dtype: int8"
      ]
     },
     "execution_count": 20,
     "metadata": {},
     "output_type": "execute_result"
    }
   ],
   "source": [
    "df[\"UsageBand\"].cat.codes"
   ]
  },
  {
   "cell_type": "code",
   "execution_count": 21,
   "id": "6b8fd7d6",
   "metadata": {},
   "outputs": [],
   "source": [
    "def numericalize(df, col, name):\n",
    "    if not is_numeric_dtype(col):\n",
    "        df[name] = col.cat.codes + 1"
   ]
  },
  {
   "cell_type": "code",
   "execution_count": 22,
   "id": "7e7515ad",
   "metadata": {},
   "outputs": [],
   "source": [
    "numericalize(df, df[\"UsageBand\"], \"UsageBand\")"
   ]
  },
  {
   "cell_type": "code",
   "execution_count": 23,
   "id": "2bceeadf",
   "metadata": {},
   "outputs": [
    {
     "data": {
      "text/plain": [
       "0         0\n",
       "1         0\n",
       "2         0\n",
       "3         0\n",
       "4         0\n",
       "         ..\n",
       "401120    0\n",
       "401121    0\n",
       "401122    0\n",
       "401123    0\n",
       "401124    0\n",
       "Name: UsageBand, Length: 401125, dtype: int8"
      ]
     },
     "execution_count": 23,
     "metadata": {},
     "output_type": "execute_result"
    }
   ],
   "source": [
    "df[\"UsageBand\"]"
   ]
  },
  {
   "cell_type": "markdown",
   "id": "3ab81f3d",
   "metadata": {},
   "source": [
    "## Datetime Column"
   ]
  },
  {
   "cell_type": "code",
   "execution_count": 24,
   "id": "e438e259",
   "metadata": {},
   "outputs": [
    {
     "data": {
      "text/plain": [
       "0        1989-01-17\n",
       "1        1989-01-31\n",
       "2        1989-01-31\n",
       "3        1989-01-31\n",
       "4        1989-01-31\n",
       "            ...    \n",
       "401120   2011-12-30\n",
       "401121   2011-12-30\n",
       "401122   2011-12-30\n",
       "401123   2011-12-30\n",
       "401124   2011-12-30\n",
       "Name: saledate, Length: 401125, dtype: datetime64[ns]"
      ]
     },
     "execution_count": 24,
     "metadata": {},
     "output_type": "execute_result"
    }
   ],
   "source": [
    "df[\"saledate\"]"
   ]
  },
  {
   "cell_type": "code",
   "execution_count": 25,
   "id": "4d640698",
   "metadata": {},
   "outputs": [
    {
     "data": {
      "text/plain": [
       "0         1989\n",
       "1         1989\n",
       "2         1989\n",
       "3         1989\n",
       "4         1989\n",
       "          ... \n",
       "401120    2011\n",
       "401121    2011\n",
       "401122    2011\n",
       "401123    2011\n",
       "401124    2011\n",
       "Name: saledate, Length: 401125, dtype: int64"
      ]
     },
     "execution_count": 25,
     "metadata": {},
     "output_type": "execute_result"
    }
   ],
   "source": [
    "df[\"saledate\"].dt.year"
   ]
  },
  {
   "cell_type": "code",
   "execution_count": 26,
   "id": "42061052",
   "metadata": {},
   "outputs": [],
   "source": [
    "def add_datepart(df, dt_name, drop=True):\n",
    "    \n",
    "    dt_column = df[dt_name]\n",
    "    column_dtype = dt_column.dtype\n",
    "    \n",
    "    attr = ['year', 'month', 'week', 'day', 'dayofweek', 'dayofyear', 'is_month_end', 'is_month_start',\n",
    "            'is_quarter_end', 'is_quarter_start', 'is_year_end', 'is_year_start']\n",
    "    \n",
    "    for a in attr:\n",
    "        df[\"Date\" + a.capitalize()] = getattr(dt_column.dt, a)\n",
    "        \n",
    "    df[\"Date\" + 'Elapsed'] = dt_column.astype(np.int64) // 10 ** 9\n",
    "    \n",
    "    if drop:\n",
    "        df.drop(dt_name, axis=1, inplace=True)"
   ]
  },
  {
   "cell_type": "code",
   "execution_count": 27,
   "id": "9313421b",
   "metadata": {},
   "outputs": [
    {
     "name": "stderr",
     "output_type": "stream",
     "text": [
      "<ipython-input-26-b97117550b45>:10: FutureWarning: Series.dt.weekofyear and Series.dt.week have been deprecated.  Please use Series.dt.isocalendar().week instead.\n",
      "  df[\"Date\" + a.capitalize()] = getattr(dt_column.dt, a)\n"
     ]
    }
   ],
   "source": [
    "add_datepart(df, \"saledate\")"
   ]
  },
  {
   "cell_type": "code",
   "execution_count": 28,
   "id": "6acf80f2",
   "metadata": {},
   "outputs": [
    {
     "data": {
      "text/html": [
       "<div>\n",
       "<style scoped>\n",
       "    .dataframe tbody tr th:only-of-type {\n",
       "        vertical-align: middle;\n",
       "    }\n",
       "\n",
       "    .dataframe tbody tr th {\n",
       "        vertical-align: top;\n",
       "    }\n",
       "\n",
       "    .dataframe thead th {\n",
       "        text-align: right;\n",
       "    }\n",
       "</style>\n",
       "<table border=\"1\" class=\"dataframe\">\n",
       "  <thead>\n",
       "    <tr style=\"text-align: right;\">\n",
       "      <th></th>\n",
       "      <th>SalesID</th>\n",
       "      <th>SalePrice</th>\n",
       "      <th>MachineID</th>\n",
       "      <th>ModelID</th>\n",
       "      <th>datasource</th>\n",
       "      <th>auctioneerID</th>\n",
       "      <th>YearMade</th>\n",
       "      <th>MachineHoursCurrentMeter</th>\n",
       "      <th>UsageBand</th>\n",
       "      <th>fiModelDesc</th>\n",
       "      <th>...</th>\n",
       "      <th>DateDay</th>\n",
       "      <th>DateDayofweek</th>\n",
       "      <th>DateDayofyear</th>\n",
       "      <th>DateIs_month_end</th>\n",
       "      <th>DateIs_month_start</th>\n",
       "      <th>DateIs_quarter_end</th>\n",
       "      <th>DateIs_quarter_start</th>\n",
       "      <th>DateIs_year_end</th>\n",
       "      <th>DateIs_year_start</th>\n",
       "      <th>DateElapsed</th>\n",
       "    </tr>\n",
       "  </thead>\n",
       "  <tbody>\n",
       "    <tr>\n",
       "      <th>0</th>\n",
       "      <td>1646770</td>\n",
       "      <td>9500</td>\n",
       "      <td>1126363</td>\n",
       "      <td>8434</td>\n",
       "      <td>132</td>\n",
       "      <td>18.0</td>\n",
       "      <td>1974</td>\n",
       "      <td>NaN</td>\n",
       "      <td>0</td>\n",
       "      <td>TD20</td>\n",
       "      <td>...</td>\n",
       "      <td>17</td>\n",
       "      <td>1</td>\n",
       "      <td>17</td>\n",
       "      <td>False</td>\n",
       "      <td>False</td>\n",
       "      <td>False</td>\n",
       "      <td>False</td>\n",
       "      <td>False</td>\n",
       "      <td>False</td>\n",
       "      <td>600998400</td>\n",
       "    </tr>\n",
       "    <tr>\n",
       "      <th>1</th>\n",
       "      <td>1404019</td>\n",
       "      <td>24000</td>\n",
       "      <td>1169900</td>\n",
       "      <td>7110</td>\n",
       "      <td>132</td>\n",
       "      <td>99.0</td>\n",
       "      <td>1986</td>\n",
       "      <td>NaN</td>\n",
       "      <td>0</td>\n",
       "      <td>416</td>\n",
       "      <td>...</td>\n",
       "      <td>31</td>\n",
       "      <td>1</td>\n",
       "      <td>31</td>\n",
       "      <td>True</td>\n",
       "      <td>False</td>\n",
       "      <td>False</td>\n",
       "      <td>False</td>\n",
       "      <td>False</td>\n",
       "      <td>False</td>\n",
       "      <td>602208000</td>\n",
       "    </tr>\n",
       "    <tr>\n",
       "      <th>2</th>\n",
       "      <td>1415646</td>\n",
       "      <td>35000</td>\n",
       "      <td>1262088</td>\n",
       "      <td>3357</td>\n",
       "      <td>132</td>\n",
       "      <td>99.0</td>\n",
       "      <td>1975</td>\n",
       "      <td>NaN</td>\n",
       "      <td>0</td>\n",
       "      <td>12G</td>\n",
       "      <td>...</td>\n",
       "      <td>31</td>\n",
       "      <td>1</td>\n",
       "      <td>31</td>\n",
       "      <td>True</td>\n",
       "      <td>False</td>\n",
       "      <td>False</td>\n",
       "      <td>False</td>\n",
       "      <td>False</td>\n",
       "      <td>False</td>\n",
       "      <td>602208000</td>\n",
       "    </tr>\n",
       "    <tr>\n",
       "      <th>3</th>\n",
       "      <td>1596358</td>\n",
       "      <td>19000</td>\n",
       "      <td>1433229</td>\n",
       "      <td>8247</td>\n",
       "      <td>132</td>\n",
       "      <td>99.0</td>\n",
       "      <td>1978</td>\n",
       "      <td>NaN</td>\n",
       "      <td>0</td>\n",
       "      <td>644</td>\n",
       "      <td>...</td>\n",
       "      <td>31</td>\n",
       "      <td>1</td>\n",
       "      <td>31</td>\n",
       "      <td>True</td>\n",
       "      <td>False</td>\n",
       "      <td>False</td>\n",
       "      <td>False</td>\n",
       "      <td>False</td>\n",
       "      <td>False</td>\n",
       "      <td>602208000</td>\n",
       "    </tr>\n",
       "    <tr>\n",
       "      <th>4</th>\n",
       "      <td>1821514</td>\n",
       "      <td>14000</td>\n",
       "      <td>1194089</td>\n",
       "      <td>10150</td>\n",
       "      <td>132</td>\n",
       "      <td>99.0</td>\n",
       "      <td>1980</td>\n",
       "      <td>NaN</td>\n",
       "      <td>0</td>\n",
       "      <td>A66</td>\n",
       "      <td>...</td>\n",
       "      <td>31</td>\n",
       "      <td>1</td>\n",
       "      <td>31</td>\n",
       "      <td>True</td>\n",
       "      <td>False</td>\n",
       "      <td>False</td>\n",
       "      <td>False</td>\n",
       "      <td>False</td>\n",
       "      <td>False</td>\n",
       "      <td>602208000</td>\n",
       "    </tr>\n",
       "    <tr>\n",
       "      <th>...</th>\n",
       "      <td>...</td>\n",
       "      <td>...</td>\n",
       "      <td>...</td>\n",
       "      <td>...</td>\n",
       "      <td>...</td>\n",
       "      <td>...</td>\n",
       "      <td>...</td>\n",
       "      <td>...</td>\n",
       "      <td>...</td>\n",
       "      <td>...</td>\n",
       "      <td>...</td>\n",
       "      <td>...</td>\n",
       "      <td>...</td>\n",
       "      <td>...</td>\n",
       "      <td>...</td>\n",
       "      <td>...</td>\n",
       "      <td>...</td>\n",
       "      <td>...</td>\n",
       "      <td>...</td>\n",
       "      <td>...</td>\n",
       "      <td>...</td>\n",
       "    </tr>\n",
       "    <tr>\n",
       "      <th>401120</th>\n",
       "      <td>6260878</td>\n",
       "      <td>13500</td>\n",
       "      <td>1799594</td>\n",
       "      <td>4102</td>\n",
       "      <td>149</td>\n",
       "      <td>2.0</td>\n",
       "      <td>1000</td>\n",
       "      <td>NaN</td>\n",
       "      <td>0</td>\n",
       "      <td>D4C</td>\n",
       "      <td>...</td>\n",
       "      <td>30</td>\n",
       "      <td>4</td>\n",
       "      <td>364</td>\n",
       "      <td>False</td>\n",
       "      <td>False</td>\n",
       "      <td>False</td>\n",
       "      <td>False</td>\n",
       "      <td>False</td>\n",
       "      <td>False</td>\n",
       "      <td>1325203200</td>\n",
       "    </tr>\n",
       "    <tr>\n",
       "      <th>401121</th>\n",
       "      <td>6288376</td>\n",
       "      <td>9750</td>\n",
       "      <td>1872596</td>\n",
       "      <td>4875</td>\n",
       "      <td>149</td>\n",
       "      <td>2.0</td>\n",
       "      <td>1000</td>\n",
       "      <td>NaN</td>\n",
       "      <td>0</td>\n",
       "      <td>520C</td>\n",
       "      <td>...</td>\n",
       "      <td>30</td>\n",
       "      <td>4</td>\n",
       "      <td>364</td>\n",
       "      <td>False</td>\n",
       "      <td>False</td>\n",
       "      <td>False</td>\n",
       "      <td>False</td>\n",
       "      <td>False</td>\n",
       "      <td>False</td>\n",
       "      <td>1325203200</td>\n",
       "    </tr>\n",
       "    <tr>\n",
       "      <th>401122</th>\n",
       "      <td>6258093</td>\n",
       "      <td>14500</td>\n",
       "      <td>1877553</td>\n",
       "      <td>3170</td>\n",
       "      <td>149</td>\n",
       "      <td>2.0</td>\n",
       "      <td>1988</td>\n",
       "      <td>NaN</td>\n",
       "      <td>0</td>\n",
       "      <td>580K</td>\n",
       "      <td>...</td>\n",
       "      <td>30</td>\n",
       "      <td>4</td>\n",
       "      <td>364</td>\n",
       "      <td>False</td>\n",
       "      <td>False</td>\n",
       "      <td>False</td>\n",
       "      <td>False</td>\n",
       "      <td>False</td>\n",
       "      <td>False</td>\n",
       "      <td>1325203200</td>\n",
       "    </tr>\n",
       "    <tr>\n",
       "      <th>401123</th>\n",
       "      <td>6315563</td>\n",
       "      <td>12500</td>\n",
       "      <td>1869637</td>\n",
       "      <td>26456</td>\n",
       "      <td>149</td>\n",
       "      <td>2.0</td>\n",
       "      <td>2010</td>\n",
       "      <td>NaN</td>\n",
       "      <td>0</td>\n",
       "      <td>L160</td>\n",
       "      <td>...</td>\n",
       "      <td>30</td>\n",
       "      <td>4</td>\n",
       "      <td>364</td>\n",
       "      <td>False</td>\n",
       "      <td>False</td>\n",
       "      <td>False</td>\n",
       "      <td>False</td>\n",
       "      <td>False</td>\n",
       "      <td>False</td>\n",
       "      <td>1325203200</td>\n",
       "    </tr>\n",
       "    <tr>\n",
       "      <th>401124</th>\n",
       "      <td>6312170</td>\n",
       "      <td>11000</td>\n",
       "      <td>1812622</td>\n",
       "      <td>9580</td>\n",
       "      <td>149</td>\n",
       "      <td>2.0</td>\n",
       "      <td>2005</td>\n",
       "      <td>NaN</td>\n",
       "      <td>0</td>\n",
       "      <td>T190</td>\n",
       "      <td>...</td>\n",
       "      <td>30</td>\n",
       "      <td>4</td>\n",
       "      <td>364</td>\n",
       "      <td>False</td>\n",
       "      <td>False</td>\n",
       "      <td>False</td>\n",
       "      <td>False</td>\n",
       "      <td>False</td>\n",
       "      <td>False</td>\n",
       "      <td>1325203200</td>\n",
       "    </tr>\n",
       "  </tbody>\n",
       "</table>\n",
       "<p>401125 rows × 65 columns</p>\n",
       "</div>"
      ],
      "text/plain": [
       "        SalesID  SalePrice  MachineID  ModelID  datasource  auctioneerID  \\\n",
       "0       1646770       9500    1126363     8434         132          18.0   \n",
       "1       1404019      24000    1169900     7110         132          99.0   \n",
       "2       1415646      35000    1262088     3357         132          99.0   \n",
       "3       1596358      19000    1433229     8247         132          99.0   \n",
       "4       1821514      14000    1194089    10150         132          99.0   \n",
       "...         ...        ...        ...      ...         ...           ...   \n",
       "401120  6260878      13500    1799594     4102         149           2.0   \n",
       "401121  6288376       9750    1872596     4875         149           2.0   \n",
       "401122  6258093      14500    1877553     3170         149           2.0   \n",
       "401123  6315563      12500    1869637    26456         149           2.0   \n",
       "401124  6312170      11000    1812622     9580         149           2.0   \n",
       "\n",
       "        YearMade  MachineHoursCurrentMeter  UsageBand fiModelDesc  ...  \\\n",
       "0           1974                       NaN          0        TD20  ...   \n",
       "1           1986                       NaN          0         416  ...   \n",
       "2           1975                       NaN          0         12G  ...   \n",
       "3           1978                       NaN          0         644  ...   \n",
       "4           1980                       NaN          0         A66  ...   \n",
       "...          ...                       ...        ...         ...  ...   \n",
       "401120      1000                       NaN          0         D4C  ...   \n",
       "401121      1000                       NaN          0        520C  ...   \n",
       "401122      1988                       NaN          0        580K  ...   \n",
       "401123      2010                       NaN          0        L160  ...   \n",
       "401124      2005                       NaN          0        T190  ...   \n",
       "\n",
       "       DateDay DateDayofweek DateDayofyear DateIs_month_end  \\\n",
       "0           17             1            17            False   \n",
       "1           31             1            31             True   \n",
       "2           31             1            31             True   \n",
       "3           31             1            31             True   \n",
       "4           31             1            31             True   \n",
       "...        ...           ...           ...              ...   \n",
       "401120      30             4           364            False   \n",
       "401121      30             4           364            False   \n",
       "401122      30             4           364            False   \n",
       "401123      30             4           364            False   \n",
       "401124      30             4           364            False   \n",
       "\n",
       "       DateIs_month_start DateIs_quarter_end DateIs_quarter_start  \\\n",
       "0                   False              False                False   \n",
       "1                   False              False                False   \n",
       "2                   False              False                False   \n",
       "3                   False              False                False   \n",
       "4                   False              False                False   \n",
       "...                   ...                ...                  ...   \n",
       "401120              False              False                False   \n",
       "401121              False              False                False   \n",
       "401122              False              False                False   \n",
       "401123              False              False                False   \n",
       "401124              False              False                False   \n",
       "\n",
       "       DateIs_year_end DateIs_year_start DateElapsed  \n",
       "0                False             False   600998400  \n",
       "1                False             False   602208000  \n",
       "2                False             False   602208000  \n",
       "3                False             False   602208000  \n",
       "4                False             False   602208000  \n",
       "...                ...               ...         ...  \n",
       "401120           False             False  1325203200  \n",
       "401121           False             False  1325203200  \n",
       "401122           False             False  1325203200  \n",
       "401123           False             False  1325203200  \n",
       "401124           False             False  1325203200  \n",
       "\n",
       "[401125 rows x 65 columns]"
      ]
     },
     "execution_count": 28,
     "metadata": {},
     "output_type": "execute_result"
    }
   ],
   "source": [
    "df"
   ]
  },
  {
   "cell_type": "markdown",
   "id": "6d4fdad8",
   "metadata": {},
   "source": [
    "## Feather Format"
   ]
  },
  {
   "cell_type": "code",
   "execution_count": 29,
   "id": "93349b0b",
   "metadata": {},
   "outputs": [],
   "source": [
    "import os"
   ]
  },
  {
   "cell_type": "code",
   "execution_count": 30,
   "id": "326f9c4a",
   "metadata": {},
   "outputs": [],
   "source": [
    "os.makedirs('tmp', exist_ok=True) # Eğer tmp diye bir klasör varsa hata vermemesini sağlar\n",
    "df.to_feather('tmp/bulldozers_1')"
   ]
  },
  {
   "cell_type": "markdown",
   "id": "a5b9486d",
   "metadata": {},
   "source": [
    "# Missing Value"
   ]
  },
  {
   "cell_type": "code",
   "execution_count": 31,
   "id": "bbc7bbdb",
   "metadata": {},
   "outputs": [],
   "source": [
    "import pandas as pd\n",
    "import numpy as np"
   ]
  },
  {
   "cell_type": "code",
   "execution_count": 32,
   "id": "4fc15536",
   "metadata": {},
   "outputs": [],
   "source": [
    "df = pd.read_feather(\"tmp/bulldozers_1\")"
   ]
  },
  {
   "cell_type": "code",
   "execution_count": 33,
   "id": "0c5fa3a1",
   "metadata": {},
   "outputs": [],
   "source": [
    "d = {\"a\": [1, 2, 3, 4, 4, np.nan], \"b\":[1, 2, 3, 3, 4, 5]}\n",
    "toy = pd.DataFrame(d)"
   ]
  },
  {
   "cell_type": "code",
   "execution_count": 34,
   "id": "4fc08701",
   "metadata": {},
   "outputs": [
    {
     "data": {
      "text/html": [
       "<div>\n",
       "<style scoped>\n",
       "    .dataframe tbody tr th:only-of-type {\n",
       "        vertical-align: middle;\n",
       "    }\n",
       "\n",
       "    .dataframe tbody tr th {\n",
       "        vertical-align: top;\n",
       "    }\n",
       "\n",
       "    .dataframe thead th {\n",
       "        text-align: right;\n",
       "    }\n",
       "</style>\n",
       "<table border=\"1\" class=\"dataframe\">\n",
       "  <thead>\n",
       "    <tr style=\"text-align: right;\">\n",
       "      <th></th>\n",
       "      <th>a</th>\n",
       "      <th>b</th>\n",
       "    </tr>\n",
       "  </thead>\n",
       "  <tbody>\n",
       "    <tr>\n",
       "      <th>0</th>\n",
       "      <td>1.0</td>\n",
       "      <td>1</td>\n",
       "    </tr>\n",
       "    <tr>\n",
       "      <th>1</th>\n",
       "      <td>2.0</td>\n",
       "      <td>2</td>\n",
       "    </tr>\n",
       "    <tr>\n",
       "      <th>2</th>\n",
       "      <td>3.0</td>\n",
       "      <td>3</td>\n",
       "    </tr>\n",
       "    <tr>\n",
       "      <th>3</th>\n",
       "      <td>4.0</td>\n",
       "      <td>3</td>\n",
       "    </tr>\n",
       "    <tr>\n",
       "      <th>4</th>\n",
       "      <td>4.0</td>\n",
       "      <td>4</td>\n",
       "    </tr>\n",
       "    <tr>\n",
       "      <th>5</th>\n",
       "      <td>NaN</td>\n",
       "      <td>5</td>\n",
       "    </tr>\n",
       "  </tbody>\n",
       "</table>\n",
       "</div>"
      ],
      "text/plain": [
       "     a  b\n",
       "0  1.0  1\n",
       "1  2.0  2\n",
       "2  3.0  3\n",
       "3  4.0  3\n",
       "4  4.0  4\n",
       "5  NaN  5"
      ]
     },
     "execution_count": 34,
     "metadata": {},
     "output_type": "execute_result"
    }
   ],
   "source": [
    "toy"
   ]
  },
  {
   "cell_type": "code",
   "execution_count": 35,
   "id": "77b8b54c",
   "metadata": {},
   "outputs": [
    {
     "data": {
      "text/html": [
       "<div>\n",
       "<style scoped>\n",
       "    .dataframe tbody tr th:only-of-type {\n",
       "        vertical-align: middle;\n",
       "    }\n",
       "\n",
       "    .dataframe tbody tr th {\n",
       "        vertical-align: top;\n",
       "    }\n",
       "\n",
       "    .dataframe thead th {\n",
       "        text-align: right;\n",
       "    }\n",
       "</style>\n",
       "<table border=\"1\" class=\"dataframe\">\n",
       "  <thead>\n",
       "    <tr style=\"text-align: right;\">\n",
       "      <th></th>\n",
       "      <th>a</th>\n",
       "      <th>b</th>\n",
       "    </tr>\n",
       "  </thead>\n",
       "  <tbody>\n",
       "    <tr>\n",
       "      <th>0</th>\n",
       "      <td>False</td>\n",
       "      <td>False</td>\n",
       "    </tr>\n",
       "    <tr>\n",
       "      <th>1</th>\n",
       "      <td>False</td>\n",
       "      <td>False</td>\n",
       "    </tr>\n",
       "    <tr>\n",
       "      <th>2</th>\n",
       "      <td>False</td>\n",
       "      <td>False</td>\n",
       "    </tr>\n",
       "    <tr>\n",
       "      <th>3</th>\n",
       "      <td>False</td>\n",
       "      <td>False</td>\n",
       "    </tr>\n",
       "    <tr>\n",
       "      <th>4</th>\n",
       "      <td>False</td>\n",
       "      <td>False</td>\n",
       "    </tr>\n",
       "    <tr>\n",
       "      <th>5</th>\n",
       "      <td>True</td>\n",
       "      <td>False</td>\n",
       "    </tr>\n",
       "  </tbody>\n",
       "</table>\n",
       "</div>"
      ],
      "text/plain": [
       "       a      b\n",
       "0  False  False\n",
       "1  False  False\n",
       "2  False  False\n",
       "3  False  False\n",
       "4  False  False\n",
       "5   True  False"
      ]
     },
     "execution_count": 35,
     "metadata": {},
     "output_type": "execute_result"
    }
   ],
   "source": [
    "toy.isnull()"
   ]
  },
  {
   "cell_type": "code",
   "execution_count": 36,
   "id": "47360437",
   "metadata": {},
   "outputs": [
    {
     "data": {
      "text/plain": [
       "0    False\n",
       "1    False\n",
       "2    False\n",
       "3    False\n",
       "4    False\n",
       "5     True\n",
       "Name: a, dtype: bool"
      ]
     },
     "execution_count": 36,
     "metadata": {},
     "output_type": "execute_result"
    }
   ],
   "source": [
    "toy[\"a\"].isnull()"
   ]
  },
  {
   "cell_type": "code",
   "execution_count": 37,
   "id": "6f84e60b",
   "metadata": {},
   "outputs": [
    {
     "data": {
      "text/plain": [
       "1"
      ]
     },
     "execution_count": 37,
     "metadata": {},
     "output_type": "execute_result"
    }
   ],
   "source": [
    "toy[\"a\"].isnull().sum()"
   ]
  },
  {
   "cell_type": "code",
   "execution_count": 38,
   "id": "300099d1",
   "metadata": {},
   "outputs": [],
   "source": [
    "def fix_missing(df, col, name):\n",
    "    if is_numeric_dtype(col):\n",
    "        if pd.isnull(col).sum:\n",
    "            df[name+\"_na\"] = pd.isnull(col)\n",
    "        df[name] = col.fillna(col.median())"
   ]
  },
  {
   "cell_type": "code",
   "execution_count": 39,
   "id": "757465a3",
   "metadata": {},
   "outputs": [
    {
     "name": "stdout",
     "output_type": "stream",
     "text": [
      "auctioneerID\n",
      "MachineHoursCurrentMeter\n"
     ]
    }
   ],
   "source": [
    "for n, c in df.items():\n",
    "    if is_numeric_dtype(c):\n",
    "        if df[n].isnull().sum():\n",
    "            print(n)"
   ]
  },
  {
   "cell_type": "code",
   "execution_count": 40,
   "id": "b86f213b",
   "metadata": {},
   "outputs": [
    {
     "data": {
      "text/plain": [
       "258360"
      ]
     },
     "execution_count": 40,
     "metadata": {},
     "output_type": "execute_result"
    }
   ],
   "source": [
    "df[\"MachineHoursCurrentMeter\"].isnull().sum()"
   ]
  },
  {
   "cell_type": "code",
   "execution_count": 41,
   "id": "05a4082c",
   "metadata": {},
   "outputs": [],
   "source": [
    "fix_missing(df, df[\"MachineHoursCurrentMeter\"], \"MachineHoursCurrentMeter\")"
   ]
  },
  {
   "cell_type": "code",
   "execution_count": 42,
   "id": "c24ee31c",
   "metadata": {},
   "outputs": [
    {
     "data": {
      "text/plain": [
       "0"
      ]
     },
     "execution_count": 42,
     "metadata": {},
     "output_type": "execute_result"
    }
   ],
   "source": [
    "df[\"MachineHoursCurrentMeter\"].isnull().sum()"
   ]
  },
  {
   "cell_type": "code",
   "execution_count": 43,
   "id": "ce0409ca",
   "metadata": {},
   "outputs": [
    {
     "data": {
      "text/plain": [
       "0         True\n",
       "1         True\n",
       "2         True\n",
       "3         True\n",
       "4         True\n",
       "          ... \n",
       "401120    True\n",
       "401121    True\n",
       "401122    True\n",
       "401123    True\n",
       "401124    True\n",
       "Name: MachineHoursCurrentMeter_na, Length: 401125, dtype: bool"
      ]
     },
     "execution_count": 43,
     "metadata": {},
     "output_type": "execute_result"
    }
   ],
   "source": [
    "df[\"MachineHoursCurrentMeter_na\"]"
   ]
  },
  {
   "cell_type": "markdown",
   "id": "b6f2242b",
   "metadata": {},
   "source": [
    "# Hepsi Bir Arada"
   ]
  },
  {
   "cell_type": "code",
   "execution_count": 44,
   "id": "e55b0612",
   "metadata": {},
   "outputs": [],
   "source": [
    "def fix_missing(df, col, name):\n",
    "    if is_numeric_dtype(col):\n",
    "        if pd.isnull(col).sum:\n",
    "            df[name+\"_na\"] = pd.isnull(col)\n",
    "        df[name] = col.fillna(col.median())"
   ]
  },
  {
   "cell_type": "code",
   "execution_count": 45,
   "id": "5b64972c",
   "metadata": {},
   "outputs": [],
   "source": [
    "def numericalize(df, col, name):\n",
    "    if not is_numeric_dtype(col):\n",
    "        df[name] = col.cat.codes + 1"
   ]
  },
  {
   "cell_type": "code",
   "execution_count": 46,
   "id": "162372af",
   "metadata": {},
   "outputs": [],
   "source": [
    "def proc_df(df, y_fld):\n",
    "    \n",
    "    y = df[y_fld].values\n",
    "    df.drop([y_fld], axis=1, inplace=True)\n",
    "    \n",
    "    for n, c in df.items():\n",
    "        fix_missing(df, c, n)\n",
    "        numericalize(df, c, n)\n",
    "    \n",
    "    return df, y"
   ]
  },
  {
   "cell_type": "code",
   "execution_count": 47,
   "id": "8ad0d086",
   "metadata": {},
   "outputs": [],
   "source": [
    "def fix_missing(df, col, name, nan_dict, is_train):\n",
    "    \n",
    "    if is_train:\n",
    "        if is_numeric_dtype(col):\n",
    "            if pd.isnull(col).sum():\n",
    "                df[name+\"_na\"] = pd.isnull(col)\n",
    "                nan_dict[name] = col.median()\n",
    "                df[name] = col.fillna(nan_dict[name])\n",
    "\n",
    "    else:\n",
    "        if is_numeric_dtype(col):\n",
    "            if pd.isnull(col).sum:\n",
    "                df[name+\"_na\"] = pd.isnull(col)\n",
    "                df[name] = col.fillna(col.median())\n",
    "            else:\n",
    "                df[name] = col.fillna(df[name].median())"
   ]
  },
  {
   "cell_type": "code",
   "execution_count": 48,
   "id": "a958574a",
   "metadata": {},
   "outputs": [],
   "source": [
    "# We will have codes starting from 0 (for missing)\n",
    "def numericalize(df, col, name):\n",
    "    if not is_numeric_dtype(col):\n",
    "        df[name] = col.cat.codes + 1"
   ]
  },
  {
   "cell_type": "code",
   "execution_count": 49,
   "id": "e14864b9",
   "metadata": {},
   "outputs": [],
   "source": [
    "def proc_df(df, y_fld, nan_dict=None, is_train=True):\n",
    "    \n",
    "    df = df.copy()\n",
    "    y = df[y_fld].values\n",
    "    \n",
    "    df.drop([y_fld], axis=1, inplace=True)\n",
    "    \n",
    "    if nan_dict is None:\n",
    "        nan_dict = {}\n",
    "    \n",
    "    for n, c in df.items():\n",
    "        fix_missing(df, c, n, nan_dict, is_train)\n",
    "        numericalize(df, c, n)\n",
    "        \n",
    "    if is_train:\n",
    "        return df, y, nan_dict\n",
    "    \n",
    "    return df, y"
   ]
  },
  {
   "cell_type": "code",
   "execution_count": 50,
   "id": "d304e698",
   "metadata": {},
   "outputs": [],
   "source": [
    "def split_train_val(df, n):\n",
    "    \n",
    "    return df[:n].copy(), df[n:].copy()"
   ]
  },
  {
   "cell_type": "code",
   "execution_count": 51,
   "id": "d288c7e6",
   "metadata": {},
   "outputs": [],
   "source": [
    "n_valid = 12000 # same as Kaggle's test size\n",
    "n_train = len(df)-n_valid\n",
    "raw_train, raw_valid = split_train_val(df, n_train)"
   ]
  },
  {
   "cell_type": "code",
   "execution_count": 52,
   "id": "5136d06f",
   "metadata": {},
   "outputs": [],
   "source": [
    "x_train, y_train, nas = proc_df(raw_train, 'SalePrice')"
   ]
  },
  {
   "cell_type": "code",
   "execution_count": 53,
   "id": "bdc9c7d6",
   "metadata": {},
   "outputs": [],
   "source": [
    "x_valid, y_valid = proc_df(raw_valid, 'SalePrice', nan_dict=nas, is_train=False)\n",
    "x_valid.drop([col for col in x_valid.columns if col not in x_train.columns], axis=1, inplace=True)"
   ]
  },
  {
   "cell_type": "markdown",
   "id": "f12bbb26",
   "metadata": {},
   "source": [
    "# İlk Model\n",
    "\n",
    "- Default olarak R^2 alır"
   ]
  },
  {
   "cell_type": "code",
   "execution_count": 54,
   "id": "569461a7",
   "metadata": {},
   "outputs": [
    {
     "data": {
      "text/plain": [
       "1.0"
      ]
     },
     "execution_count": 54,
     "metadata": {},
     "output_type": "execute_result"
    }
   ],
   "source": [
    "m = RandomForestRegressor(n_estimators=1, bootstrap=False, n_jobs=-1)\n",
    "m.fit(x_train, y_train)\n",
    "m.score(x_train, y_train)"
   ]
  },
  {
   "cell_type": "code",
   "execution_count": 55,
   "id": "943189ce",
   "metadata": {},
   "outputs": [],
   "source": [
    "def rmse(x, y):\n",
    "    return math.sqrt(((x-y)**2).mean())"
   ]
  },
  {
   "cell_type": "code",
   "execution_count": 56,
   "id": "68419899",
   "metadata": {},
   "outputs": [],
   "source": [
    "def print_score(m):\n",
    "    \n",
    "    print(f\"RMSE of train set {rmse(m.predict(x_train), y_train)}\")\n",
    "    print(f\"RMSE of validation set {rmse(m.predict(x_valid), y_valid)}\")\n",
    "    print(f\"R^2 of train set {m.score(x_train, y_train)}\")\n",
    "    print(f\"R^2 of validation set {m.score(x_valid, y_valid)}\")"
   ]
  },
  {
   "cell_type": "code",
   "execution_count": 57,
   "id": "795fcceb",
   "metadata": {},
   "outputs": [
    {
     "name": "stdout",
     "output_type": "stream",
     "text": [
      "RMSE of train set 0.0\n",
      "RMSE of validation set 13170.869434333103\n",
      "R^2 of train set 1.0\n",
      "R^2 of validation set 0.7296747921151657\n"
     ]
    }
   ],
   "source": [
    "print_score(m)"
   ]
  },
  {
   "cell_type": "markdown",
   "id": "859ed036",
   "metadata": {},
   "source": [
    "## Tüm Veri İle"
   ]
  },
  {
   "cell_type": "code",
   "execution_count": 58,
   "id": "44c5f356",
   "metadata": {},
   "outputs": [],
   "source": [
    "x_train, y_train, nas = proc_df(raw_train, 'SalePrice')"
   ]
  },
  {
   "cell_type": "code",
   "execution_count": 59,
   "id": "f65ccd93",
   "metadata": {},
   "outputs": [],
   "source": [
    "x_valid, y_valid = proc_df(raw_valid, 'SalePrice', nan_dict=nas, is_train=False)\n",
    "x_valid.drop([col for col in x_valid.columns if col not in x_train.columns], axis=1, inplace=True)"
   ]
  },
  {
   "cell_type": "code",
   "execution_count": 60,
   "id": "498cac50",
   "metadata": {},
   "outputs": [
    {
     "name": "stdout",
     "output_type": "stream",
     "text": [
      "Wall time: 10.5 s\n",
      "RMSE of train set 3038.7929421986346\n",
      "RMSE of validation set 9507.078502073995\n",
      "R^2 of train set 0.9824768059420598\n",
      "R^2 of validation set 0.859151632851154\n"
     ]
    }
   ],
   "source": [
    "m = RandomForestRegressor(n_estimators=10, n_jobs=-1)\n",
    "%time m.fit(x_train, y_train)\n",
    "print_score(m)"
   ]
  },
  {
   "cell_type": "code",
   "execution_count": 61,
   "id": "8bcf0026",
   "metadata": {},
   "outputs": [
    {
     "name": "stdout",
     "output_type": "stream",
     "text": [
      "Wall time: 30 s\n",
      "RMSE of train set 2675.349526416471\n",
      "RMSE of validation set 9122.847054079593\n",
      "R^2 of train set 0.9864177377689093\n",
      "R^2 of validation set 0.8703064301682794\n"
     ]
    }
   ],
   "source": [
    "m = RandomForestRegressor(n_estimators=30, n_jobs=-1)\n",
    "%time m.fit(x_train, y_train)\n",
    "print_score(m)"
   ]
  },
  {
   "cell_type": "markdown",
   "id": "b7cc7d49",
   "metadata": {},
   "source": [
    "# Subsample"
   ]
  },
  {
   "cell_type": "markdown",
   "id": "b102c0b0",
   "metadata": {},
   "source": [
    "## Farklı Şeyleri Hızlı Şekilde Denemek\n",
    "\n",
    "- Elimizdeki problem için uygun modeli bulmak için çok şey denememiz gerekebilir.\n",
    "- Bu iteratif süreci hızlı bir hale getirmek için model seçme kısmını subsample alarak yapabiliriz."
   ]
  },
  {
   "cell_type": "code",
   "execution_count": 62,
   "id": "d3d13a26",
   "metadata": {},
   "outputs": [],
   "source": [
    "arr = np.array([10, 21, 7, 13, 5, 12, 56, 2, 3, 40])"
   ]
  },
  {
   "cell_type": "code",
   "execution_count": 63,
   "id": "d12b5f2b",
   "metadata": {},
   "outputs": [],
   "source": [
    "a = np.random.permutation(10)"
   ]
  },
  {
   "cell_type": "code",
   "execution_count": 64,
   "id": "72faeb2c",
   "metadata": {},
   "outputs": [],
   "source": [
    "idxs = a[:3]"
   ]
  },
  {
   "cell_type": "code",
   "execution_count": 65,
   "id": "c9e01150",
   "metadata": {},
   "outputs": [
    {
     "data": {
      "text/plain": [
       "array([ 2, 13,  7])"
      ]
     },
     "execution_count": 65,
     "metadata": {},
     "output_type": "execute_result"
    }
   ],
   "source": [
    "arr[idxs]"
   ]
  },
  {
   "cell_type": "markdown",
   "id": "30fe62a6",
   "metadata": {},
   "source": [
    "## Subset Yaratma"
   ]
  },
  {
   "cell_type": "code",
   "execution_count": 66,
   "id": "fb11b921",
   "metadata": {},
   "outputs": [],
   "source": [
    "def get_sample(df, n):\n",
    "    \n",
    "    idxs = np.random.permutation(len(df))[:n]\n",
    "    return idxs, df.iloc[idxs].copy()"
   ]
  },
  {
   "cell_type": "markdown",
   "id": "a0e6d609",
   "metadata": {},
   "source": [
    "- Validation seti değiştirmek istemiyorum, sadece train içinde subset alacağım"
   ]
  },
  {
   "cell_type": "code",
   "execution_count": 67,
   "id": "c8dff380",
   "metadata": {},
   "outputs": [],
   "source": [
    "idxs, x_train = get_sample(x_train, 3000)\n",
    "y_train = y_train[idxs]"
   ]
  },
  {
   "cell_type": "code",
   "execution_count": 68,
   "id": "6bbfad99",
   "metadata": {},
   "outputs": [
    {
     "name": "stdout",
     "output_type": "stream",
     "text": [
      "Wall time: 97.7 ms\n",
      "RMSE of train set 4982.879617291257\n",
      "RMSE of validation set 13681.546424749775\n",
      "R^2 of train set 0.9547820121802503\n",
      "R^2 of validation set 0.7083056389803544\n"
     ]
    }
   ],
   "source": [
    "m = RandomForestRegressor(n_estimators=10, n_jobs=-1)\n",
    "%time m.fit(x_train, y_train)\n",
    "print_score(m)"
   ]
  },
  {
   "cell_type": "code",
   "execution_count": 69,
   "id": "c40cc162",
   "metadata": {},
   "outputs": [
    {
     "name": "stdout",
     "output_type": "stream",
     "text": [
      "Wall time: 145 ms\n",
      "RMSE of train set 4458.369027009765\n",
      "RMSE of validation set 13315.297086756482\n",
      "R^2 of train set 0.9638005086396194\n",
      "R^2 of validation set 0.723713682417142\n"
     ]
    }
   ],
   "source": [
    "m = RandomForestRegressor(n_estimators=30, n_jobs=-1)\n",
    "%time m.fit(x_train, y_train)\n",
    "print_score(m)"
   ]
  },
  {
   "cell_type": "markdown",
   "id": "d79e348b",
   "metadata": {},
   "source": [
    "# Hyperparameters"
   ]
  },
  {
   "cell_type": "markdown",
   "id": "f2fb1c84",
   "metadata": {},
   "source": [
    "## Using Bootstraping and More Trees than Default"
   ]
  },
  {
   "cell_type": "code",
   "execution_count": 70,
   "id": "88eceabf",
   "metadata": {},
   "outputs": [
    {
     "name": "stdout",
     "output_type": "stream",
     "text": [
      "Wall time: 190 ms\n",
      "RMSE of train set 4379.950943021627\n",
      "RMSE of validation set 12944.851473420844\n",
      "R^2 of train set 0.9650627325109566\n",
      "R^2 of validation set 0.7388729874446343\n"
     ]
    }
   ],
   "source": [
    "m = RandomForestRegressor(n_estimators=40, n_jobs=-1)\n",
    "%time m.fit(x_train, y_train)\n",
    "print_score(m)"
   ]
  },
  {
   "cell_type": "markdown",
   "id": "8047ddc2",
   "metadata": {},
   "source": [
    "## Using min_sample_leaf\n",
    "\n",
    "**min_sample_leaf**: The minimum number of samples required to be at a leaf node.\n",
    "\n",
    "We can grow our trees less deeply to reduce overfitting. We do this by setting **min_sample_leaf**.\n",
    "- There are less decision rules for each leaf node. Our model will not memorize the data, it will be so called simpler, and not specialized to our data, that kind of models should generalize better.\n",
    "- The predictions are made by averaging more rows in the leaf node, it will also help our model generalize better."
   ]
  },
  {
   "cell_type": "code",
   "execution_count": 71,
   "id": "f1712861",
   "metadata": {},
   "outputs": [
    {
     "name": "stdout",
     "output_type": "stream",
     "text": [
      "Wall time: 155 ms\n",
      "RMSE of train set 6058.25009474688\n",
      "RMSE of validation set 12908.880301848649\n",
      "R^2 of train set 0.9331587076906988\n",
      "R^2 of validation set 0.7403222113136385\n"
     ]
    }
   ],
   "source": [
    "# It will train more quickly because it will be less deep\n",
    "m = RandomForestRegressor(n_estimators=40, min_samples_leaf=3, n_jobs=-1)\n",
    "%time m.fit(x_train, y_train)\n",
    "print_score(m)"
   ]
  },
  {
   "cell_type": "markdown",
   "id": "d39a3290",
   "metadata": {},
   "source": [
    "It increases our R^2 of validation set! It generalizes better as we thought it would!\n",
    "\n",
    "If you are using big dataset, you can set min_sample_leaf to 10-10000\n",
    "\n",
    "The only way to know which one is better is to try and experiment!\n",
    "\n",
    "- Generally try these values first: 1, 3, 5, 10, 25, 100"
   ]
  },
  {
   "cell_type": "code",
   "execution_count": 72,
   "id": "bc515868",
   "metadata": {},
   "outputs": [
    {
     "name": "stdout",
     "output_type": "stream",
     "text": [
      "Wall time: 131 ms\n",
      "RMSE of train set 7462.833593333829\n",
      "RMSE of validation set 12989.120770509482\n",
      "R^2 of train set 0.8985719775680946\n",
      "R^2 of validation set 0.7370839092416209\n"
     ]
    }
   ],
   "source": [
    "m = RandomForestRegressor(n_estimators=40, min_samples_leaf=5, n_jobs=-1)\n",
    "%time m.fit(x_train, y_train)\n",
    "print_score(m)"
   ]
  },
  {
   "cell_type": "markdown",
   "id": "a4e7320a",
   "metadata": {},
   "source": [
    "## Using max_features to Add Randomness to Split\n",
    "\n",
    "It will make our trees to learn specific things, patterns in our model better.\n",
    "\n",
    "It will also increase the amount of variation amongst the trees. It will also using a sample of _columns_ for each _split_. We do this by specifying **max_features**.\n",
    "\n",
    "We said that less correlated our trees are the better.\n",
    "\n",
    "Suppose that some features are too much important at deciding than others, so regardless of our different subset, all trees will use those features in first splits, and that makes our trees similar, more correlated.\n",
    "\n",
    "But we want our trees to learn different patterns in our data. We don't want them to learn same things! The reason we are averaging all the trees we have is to gain knowledge from them, but if all of them learn same things, it will be much less informative. **So we want our trees to learn different things and for that reason randomizing the features that they can use will create more unique trees that can learn different things**.\n",
    "\n",
    "So every individual splits will be based on different subset of features. At every decision point, we will use different subset of features to decide splitting.\n",
    "\n",
    "- None: Use all of them\n",
    "- 0.5: Use half of them\n",
    "- 'sqrt': Use sqrt of the amount"
   ]
  },
  {
   "cell_type": "code",
   "execution_count": 73,
   "id": "9d9aaa7f",
   "metadata": {},
   "outputs": [
    {
     "name": "stdout",
     "output_type": "stream",
     "text": [
      "Wall time: 174 ms\n",
      "RMSE of train set 7985.778211557599\n",
      "RMSE of validation set 13296.697608898154\n",
      "R^2 of train set 0.8838591684476145\n",
      "R^2 of validation set 0.7244850046277846\n"
     ]
    }
   ],
   "source": [
    "m = RandomForestRegressor(n_estimators=70, min_samples_leaf=5, max_features=0.5, n_jobs=-1, oob_score=True)\n",
    "%time m.fit(x_train, y_train)\n",
    "print_score(m)"
   ]
  }
 ],
 "metadata": {
  "kernelspec": {
   "display_name": "Python 3",
   "language": "python",
   "name": "python3"
  },
  "language_info": {
   "codemirror_mode": {
    "name": "ipython",
    "version": 3
   },
   "file_extension": ".py",
   "mimetype": "text/x-python",
   "name": "python",
   "nbconvert_exporter": "python",
   "pygments_lexer": "ipython3",
   "version": "3.8.8"
  }
 },
 "nbformat": 4,
 "nbformat_minor": 5
}
