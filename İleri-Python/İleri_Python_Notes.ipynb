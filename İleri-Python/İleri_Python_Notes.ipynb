{
 "cells": [
  {
   "cell_type": "markdown",
   "id": "f6db8597",
   "metadata": {},
   "source": [
    "# Advanced Python\n",
    "    \n",
    "1. [\\*args & \\*\\*kwargs](#args_kwargs)\n",
    "2. [Closure](#closure)\n",
    "3. [Decorator](#decorator)\n",
    "4. [Class Oluşturma](#class_olusturma)\n",
    "5. [Class Variable](#class_variable)\n",
    "6. [Class Method ve Static Method](#class_ve_static_method)\n",
    "7. [Inheritance](#inheritance)\n",
    "8. [Magic Method](#magic_method)\n",
    "9. [Generator](#generator)"
   ]
  },
  {
   "cell_type": "markdown",
   "id": "0b55d4db",
   "metadata": {},
   "source": [
    "# 1- \\*args & \\*\\*kwargs <a id='args_kwargs'></a>"
   ]
  },
  {
   "cell_type": "markdown",
   "id": "5492c5f8",
   "metadata": {},
   "source": [
    "## \\*args\n",
    "\n",
    "- Değişken sayılı parametre vermenin bir yolu. list/tuple objelerini unpack yapar ama dictionary objelerini yapmaz."
   ]
  },
  {
   "cell_type": "code",
   "execution_count": 1,
   "id": "0a0e3963",
   "metadata": {},
   "outputs": [],
   "source": [
    "def sum(numbers):\n",
    "    res = 0\n",
    "    for e in numbers:\n",
    "        res += e\n",
    "    return res"
   ]
  },
  {
   "cell_type": "code",
   "execution_count": 2,
   "id": "1f409ad3",
   "metadata": {},
   "outputs": [
    {
     "data": {
      "text/plain": [
       "10"
      ]
     },
     "execution_count": 2,
     "metadata": {},
     "output_type": "execute_result"
    }
   ],
   "source": [
    "numbers = [1, 2, 3, 4]\n",
    "sum(numbers)"
   ]
  },
  {
   "cell_type": "code",
   "execution_count": 3,
   "id": "1a1266bd",
   "metadata": {},
   "outputs": [
    {
     "data": {
      "text/plain": [
       "3"
      ]
     },
     "execution_count": 3,
     "metadata": {},
     "output_type": "execute_result"
    }
   ],
   "source": [
    "numbers = [1, 2]\n",
    "sum(numbers)"
   ]
  },
  {
   "cell_type": "code",
   "execution_count": 4,
   "id": "3896e454",
   "metadata": {},
   "outputs": [],
   "source": [
    "def sum(*args):\n",
    "    res = 0\n",
    "    for e in args:\n",
    "        res += e\n",
    "    return res"
   ]
  },
  {
   "cell_type": "code",
   "execution_count": 5,
   "id": "ff5d9f9c",
   "metadata": {},
   "outputs": [
    {
     "data": {
      "text/plain": [
       "10"
      ]
     },
     "execution_count": 5,
     "metadata": {},
     "output_type": "execute_result"
    }
   ],
   "source": [
    "sum(1, 2, 3, 4)"
   ]
  },
  {
   "cell_type": "code",
   "execution_count": 6,
   "id": "446037fb",
   "metadata": {},
   "outputs": [],
   "source": [
    "def sum(*numbers):\n",
    "    res = 0\n",
    "    print(type(numbers))\n",
    "    print(numbers)\n",
    "    for e in numbers:\n",
    "        res += e\n",
    "    return res"
   ]
  },
  {
   "cell_type": "code",
   "execution_count": 7,
   "id": "162a190c",
   "metadata": {},
   "outputs": [
    {
     "name": "stdout",
     "output_type": "stream",
     "text": [
      "<class 'tuple'>\n",
      "(1, 2, 3, 4)\n"
     ]
    },
    {
     "data": {
      "text/plain": [
       "10"
      ]
     },
     "execution_count": 7,
     "metadata": {},
     "output_type": "execute_result"
    }
   ],
   "source": [
    "sum(1, 2, 3, 4)"
   ]
  },
  {
   "cell_type": "code",
   "execution_count": 8,
   "id": "c805cbed",
   "metadata": {},
   "outputs": [
    {
     "name": "stdout",
     "output_type": "stream",
     "text": [
      "<class 'tuple'>\n",
      "(1, 2, 3, 4, 5, 6, 7, 8, 9)\n"
     ]
    },
    {
     "data": {
      "text/plain": [
       "45"
      ]
     },
     "execution_count": 8,
     "metadata": {},
     "output_type": "execute_result"
    }
   ],
   "source": [
    "sum(1, 2, 3, 4, 5, 6, 7, 8, 9)"
   ]
  },
  {
   "cell_type": "code",
   "execution_count": 9,
   "id": "4b661b25",
   "metadata": {},
   "outputs": [],
   "source": [
    "def sum_2(*args):\n",
    "    res = 0\n",
    "    print(type(args))\n",
    "    print(args)\n",
    "    print(len(args))\n",
    "    for e in args:\n",
    "        for j in e:\n",
    "            res += j\n",
    "    return res"
   ]
  },
  {
   "cell_type": "code",
   "execution_count": 10,
   "id": "c2a3fd38",
   "metadata": {},
   "outputs": [
    {
     "name": "stdout",
     "output_type": "stream",
     "text": [
      "<class 'tuple'>\n",
      "([1, 2],)\n",
      "1\n"
     ]
    },
    {
     "data": {
      "text/plain": [
       "3"
      ]
     },
     "execution_count": 10,
     "metadata": {},
     "output_type": "execute_result"
    }
   ],
   "source": [
    "sum_2([1, 2])"
   ]
  },
  {
   "cell_type": "markdown",
   "id": "5654c653",
   "metadata": {},
   "source": [
    "## \\*\\*kwargs\n",
    "\n",
    "- Fonksiyona değişken sayıda keyword argument verebilmemizi sağlar."
   ]
  },
  {
   "cell_type": "code",
   "execution_count": 11,
   "id": "9ab18ea0",
   "metadata": {},
   "outputs": [],
   "source": [
    "def students(**kwargs):\n",
    "    \n",
    "    for v in kwargs.values():\n",
    "        print(v)"
   ]
  },
  {
   "cell_type": "code",
   "execution_count": 12,
   "id": "4282b3f0",
   "metadata": {},
   "outputs": [
    {
     "name": "stdout",
     "output_type": "stream",
     "text": [
      "Jake\n",
      "401\n"
     ]
    }
   ],
   "source": [
    "students(name=\"Jake\", student_number=\"401\")"
   ]
  },
  {
   "cell_type": "code",
   "execution_count": 13,
   "id": "815f152c",
   "metadata": {},
   "outputs": [],
   "source": [
    "def students(**students):\n",
    "    print(students)\n",
    "    for v in students:\n",
    "        print(v)"
   ]
  },
  {
   "cell_type": "code",
   "execution_count": 14,
   "id": "6c15f101",
   "metadata": {},
   "outputs": [
    {
     "name": "stdout",
     "output_type": "stream",
     "text": [
      "{'name': 'Jake', 'student_number': '401'}\n",
      "name\n",
      "student_number\n"
     ]
    }
   ],
   "source": [
    "students(name=\"Jake\", student_number=\"401\")"
   ]
  },
  {
   "cell_type": "markdown",
   "id": "268d0927",
   "metadata": {},
   "source": [
    "## Using \\*args and \\*\\*kwargs Together"
   ]
  },
  {
   "cell_type": "code",
   "execution_count": 15,
   "id": "773b89ac",
   "metadata": {},
   "outputs": [],
   "source": [
    "def weird(*args, **kwargs):\n",
    "    res = 0\n",
    "    for e in args:\n",
    "        res += e\n",
    "    \n",
    "    for k, v in kwargs.items():\n",
    "        print(k, \":\", v)\n",
    "    \n",
    "    return res"
   ]
  },
  {
   "cell_type": "code",
   "execution_count": 16,
   "id": "dae92c16",
   "metadata": {},
   "outputs": [
    {
     "name": "stdout",
     "output_type": "stream",
     "text": [
      "name : Jake\n",
      "student_number : 401\n"
     ]
    },
    {
     "data": {
      "text/plain": [
       "6"
      ]
     },
     "execution_count": 16,
     "metadata": {},
     "output_type": "execute_result"
    }
   ],
   "source": [
    "weird(1, 2, 3, name=\"Jake\", student_number=401)"
   ]
  },
  {
   "cell_type": "code",
   "execution_count": 17,
   "id": "424ffb63",
   "metadata": {},
   "outputs": [
    {
     "name": "stdout",
     "output_type": "stream",
     "text": [
      "name : Jake\n",
      "student_number : 401\n"
     ]
    },
    {
     "data": {
      "text/plain": [
       "21"
      ]
     },
     "execution_count": 17,
     "metadata": {},
     "output_type": "execute_result"
    }
   ],
   "source": [
    "weird(1, 2, 3, 4, 5, 6, name=\"Jake\", student_number=401)"
   ]
  },
  {
   "cell_type": "code",
   "execution_count": 18,
   "id": "9d00c3b1",
   "metadata": {},
   "outputs": [
    {
     "name": "stdout",
     "output_type": "stream",
     "text": [
      "name : Jake\n",
      "student_number : 401\n",
      "age : 45\n"
     ]
    },
    {
     "data": {
      "text/plain": [
       "21"
      ]
     },
     "execution_count": 18,
     "metadata": {},
     "output_type": "execute_result"
    }
   ],
   "source": [
    "weird(1, 2, 3, 4, 5, 6, name=\"Jake\", student_number=401, age=45)"
   ]
  },
  {
   "cell_type": "markdown",
   "id": "37a219e5",
   "metadata": {},
   "source": [
    "## Unpacking"
   ]
  },
  {
   "cell_type": "code",
   "execution_count": 19,
   "id": "de8428f2",
   "metadata": {},
   "outputs": [],
   "source": [
    "l = [1, 2, 3, 4]"
   ]
  },
  {
   "cell_type": "code",
   "execution_count": 20,
   "id": "21524c86",
   "metadata": {},
   "outputs": [
    {
     "name": "stdout",
     "output_type": "stream",
     "text": [
      "[1, 2, 3, 4]\n"
     ]
    }
   ],
   "source": [
    "print(l)"
   ]
  },
  {
   "cell_type": "code",
   "execution_count": 21,
   "id": "310f622d",
   "metadata": {},
   "outputs": [
    {
     "name": "stdout",
     "output_type": "stream",
     "text": [
      "1 2 3 4\n"
     ]
    }
   ],
   "source": [
    "print(*l)"
   ]
  },
  {
   "cell_type": "code",
   "execution_count": 22,
   "id": "0f056ca6",
   "metadata": {},
   "outputs": [
    {
     "name": "stdout",
     "output_type": "stream",
     "text": [
      "[[1, 2, 3, 4], [20, 21]]\n",
      "[1, 2, 3, 4, 20, 21]\n"
     ]
    }
   ],
   "source": [
    "l1 = [1, 2, 3, 4]\n",
    "l2 = [20, 21]\n",
    "\n",
    "merged_l = [*l1, *l2]\n",
    "print([l1, l2])\n",
    "print(merged_l)"
   ]
  },
  {
   "cell_type": "code",
   "execution_count": 23,
   "id": "7b428b10",
   "metadata": {},
   "outputs": [
    {
     "name": "stdout",
     "output_type": "stream",
     "text": [
      "{'name': 'Jake', 'number': 402, 'last_name': 'Sky', 'grade': 74}\n"
     ]
    }
   ],
   "source": [
    "d1 = {\"name\": \"Jake\", \"number\": 402}\n",
    "d2 = {\"last_name\": \"Sky\", \"grade\": 74}\n",
    "\n",
    "d_merged = {**d1, **d2}\n",
    "print(d_merged)"
   ]
  },
  {
   "cell_type": "code",
   "execution_count": 24,
   "id": "2684c0cf",
   "metadata": {},
   "outputs": [
    {
     "name": "stdout",
     "output_type": "stream",
     "text": [
      "{'d1': {'name': 'Jake', 'number': 402}, 'd2': {'last_name': 'Sky', 'grade': 74}}\n"
     ]
    }
   ],
   "source": [
    "d_merged_2 = {\"d1\":d1, \"d2\":d2}\n",
    "print(d_merged_2)"
   ]
  },
  {
   "cell_type": "code",
   "execution_count": 25,
   "id": "a3908f3b",
   "metadata": {},
   "outputs": [
    {
     "name": "stdout",
     "output_type": "stream",
     "text": [
      "{'name': 'Sky', 'number': 402, 'grade': 74}\n"
     ]
    }
   ],
   "source": [
    "d1 = {\"name\": \"Jake\", \"number\": 402}\n",
    "d3 = {\"name\": \"Sky\", \"grade\": 74}\n",
    "\n",
    "d_merged_3 = {**d1, **d3}\n",
    "print(d_merged_3)"
   ]
  },
  {
   "cell_type": "code",
   "execution_count": 26,
   "id": "cc8a96b5",
   "metadata": {},
   "outputs": [
    {
     "data": {
      "text/plain": [
       "['h',\n",
       " 'e',\n",
       " 'y',\n",
       " ' ',\n",
       " 't',\n",
       " 'h',\n",
       " 'i',\n",
       " 's',\n",
       " ' ',\n",
       " 'i',\n",
       " 's',\n",
       " ' ',\n",
       " 'a',\n",
       " ' ',\n",
       " 's',\n",
       " 't',\n",
       " 'r',\n",
       " 'i',\n",
       " 'n',\n",
       " 'g']"
      ]
     },
     "execution_count": 26,
     "metadata": {},
     "output_type": "execute_result"
    }
   ],
   "source": [
    "str_list = [*\"hey this is a string\"]\n",
    "str_list"
   ]
  },
  {
   "cell_type": "code",
   "execution_count": 27,
   "id": "83fec65a",
   "metadata": {},
   "outputs": [
    {
     "data": {
      "text/plain": [
       "['h', 'e', 'y']"
      ]
     },
     "execution_count": 27,
     "metadata": {},
     "output_type": "execute_result"
    }
   ],
   "source": [
    "str_list = [*\"hey\"]\n",
    "str_list"
   ]
  },
  {
   "cell_type": "markdown",
   "id": "89f7b4d4",
   "metadata": {},
   "source": [
    "# 2- Closure <a id='closure'></a>\n",
    "\n",
    "- Outer (dış) fonksiyonu çağırdıktan sonra bile inner function'ın outer function scope'una erişebilmesi."
   ]
  },
  {
   "cell_type": "code",
   "execution_count": 28,
   "id": "97fbbc64",
   "metadata": {},
   "outputs": [],
   "source": [
    "def outer():\n",
    "    msg = \"Hey\"\n",
    "    \n",
    "    def inner():\n",
    "        print(msg)\n",
    "    \n",
    "    return inner()"
   ]
  },
  {
   "cell_type": "code",
   "execution_count": 29,
   "id": "d482572f",
   "metadata": {},
   "outputs": [
    {
     "name": "stdout",
     "output_type": "stream",
     "text": [
      "Hey\n"
     ]
    }
   ],
   "source": [
    "outer()"
   ]
  },
  {
   "cell_type": "code",
   "execution_count": 30,
   "id": "5174078e",
   "metadata": {},
   "outputs": [],
   "source": [
    "def outer():\n",
    "    msg = \"Hey\"\n",
    "    \n",
    "    def inner():\n",
    "        print(msg)\n",
    "    \n",
    "    return inner"
   ]
  },
  {
   "cell_type": "code",
   "execution_count": 31,
   "id": "bce42974",
   "metadata": {},
   "outputs": [],
   "source": [
    "f = outer()"
   ]
  },
  {
   "cell_type": "code",
   "execution_count": 32,
   "id": "d9c2571b",
   "metadata": {},
   "outputs": [
    {
     "data": {
      "text/plain": [
       "<function __main__.outer.<locals>.inner()>"
      ]
     },
     "execution_count": 32,
     "metadata": {},
     "output_type": "execute_result"
    }
   ],
   "source": [
    "f"
   ]
  },
  {
   "cell_type": "markdown",
   "id": "d53b6bce",
   "metadata": {},
   "source": [
    "- Şimdi outer function'ı tanımlamış olduk ve bize içinde tanımlanan function'ı obje olarak döndürmüş oldu. Function call yapmadığım sürece obje olarak kalacak."
   ]
  },
  {
   "cell_type": "code",
   "execution_count": 33,
   "id": "3e93d201",
   "metadata": {},
   "outputs": [
    {
     "name": "stdout",
     "output_type": "stream",
     "text": [
      "Hey\n"
     ]
    }
   ],
   "source": [
    "f()"
   ]
  },
  {
   "cell_type": "markdown",
   "id": "b469a07e",
   "metadata": {},
   "source": [
    "- Burada outer function çağrılmış olsa da onun scope'unda tanımlanan değişkene hala erişebildik."
   ]
  },
  {
   "cell_type": "code",
   "execution_count": 34,
   "id": "f5a8f79b",
   "metadata": {},
   "outputs": [],
   "source": [
    "def outer(msg):\n",
    "    msg = msg\n",
    "    \n",
    "    def inner():\n",
    "        print(msg)\n",
    "    \n",
    "    return inner"
   ]
  },
  {
   "cell_type": "code",
   "execution_count": 35,
   "id": "98045f0e",
   "metadata": {},
   "outputs": [],
   "source": [
    "hi_f = outer(\"hi\")\n",
    "hey_f = outer(\"hey\")"
   ]
  },
  {
   "cell_type": "code",
   "execution_count": 36,
   "id": "f02571e2",
   "metadata": {},
   "outputs": [
    {
     "name": "stdout",
     "output_type": "stream",
     "text": [
      "hi\n"
     ]
    }
   ],
   "source": [
    "hi_f()"
   ]
  },
  {
   "cell_type": "code",
   "execution_count": 37,
   "id": "1a6e2f91",
   "metadata": {},
   "outputs": [
    {
     "name": "stdout",
     "output_type": "stream",
     "text": [
      "hey\n"
     ]
    }
   ],
   "source": [
    "hey_f()"
   ]
  },
  {
   "cell_type": "markdown",
   "id": "a88dd564",
   "metadata": {},
   "source": [
    "# 3- Decorator <a id='decorator'></a>\n",
    "\n",
    "- Decorator'lar başka fonksiyonları parametre olarak kabul edip yeni bir fonksiyonalite ile yeni bir fonksiyon döndüren yapılardır."
   ]
  },
  {
   "cell_type": "code",
   "execution_count": 38,
   "id": "f44b68ce",
   "metadata": {},
   "outputs": [],
   "source": [
    "def print_func():\n",
    "    print(\"hey\")"
   ]
  },
  {
   "cell_type": "code",
   "execution_count": 39,
   "id": "f9e93b3a",
   "metadata": {},
   "outputs": [],
   "source": [
    "def decorator_func(func):\n",
    "    def wrapper_func():\n",
    "        return func()\n",
    "    \n",
    "    return wrapper_func"
   ]
  },
  {
   "cell_type": "code",
   "execution_count": 40,
   "id": "eb4b5cff",
   "metadata": {},
   "outputs": [],
   "source": [
    "decorated_print = decorator_func(print_func)"
   ]
  },
  {
   "cell_type": "code",
   "execution_count": 41,
   "id": "4d0951d9",
   "metadata": {},
   "outputs": [
    {
     "name": "stdout",
     "output_type": "stream",
     "text": [
      "hey\n"
     ]
    }
   ],
   "source": [
    "decorated_print()"
   ]
  },
  {
   "cell_type": "markdown",
   "id": "0ecc1cf9",
   "metadata": {},
   "source": [
    "- Var olan fonksiyona fonksiyonu değiştirmeden yeni bir davranış kazandıracağız."
   ]
  },
  {
   "cell_type": "code",
   "execution_count": 42,
   "id": "63037630",
   "metadata": {},
   "outputs": [],
   "source": [
    "def decorator_func(func):\n",
    "    def wrapper_func():\n",
    "        print(f\"the name of the function is {func.__name__}\")\n",
    "        return func()\n",
    "    \n",
    "    return wrapper_func"
   ]
  },
  {
   "cell_type": "code",
   "execution_count": 43,
   "id": "29107c8f",
   "metadata": {},
   "outputs": [],
   "source": [
    "decorated_print = decorator_func(print_func)"
   ]
  },
  {
   "cell_type": "code",
   "execution_count": 44,
   "id": "444e5e6f",
   "metadata": {},
   "outputs": [
    {
     "name": "stdout",
     "output_type": "stream",
     "text": [
      "the name of the function is print_func\n",
      "hey\n"
     ]
    }
   ],
   "source": [
    "decorated_print()"
   ]
  },
  {
   "cell_type": "markdown",
   "id": "c7477e40",
   "metadata": {},
   "source": [
    "**Aynı şeyi şu şekilde de yapabilirdik:**"
   ]
  },
  {
   "cell_type": "code",
   "execution_count": 45,
   "id": "25f86505",
   "metadata": {},
   "outputs": [],
   "source": [
    "# şununla aynı: print_func = decorator_func(print_func)\n",
    "\n",
    "@decorator_func\n",
    "def print_func():\n",
    "    print(\"hey\")"
   ]
  },
  {
   "cell_type": "markdown",
   "id": "55aef6f7",
   "metadata": {},
   "source": [
    "@func yapınca aslında fonksiyonumuzu **func**'a input olarak veriyoruz."
   ]
  },
  {
   "cell_type": "code",
   "execution_count": 46,
   "id": "36d571d1",
   "metadata": {},
   "outputs": [
    {
     "name": "stdout",
     "output_type": "stream",
     "text": [
      "the name of the function is print_func\n",
      "hey\n"
     ]
    }
   ],
   "source": [
    "print_func()"
   ]
  },
  {
   "cell_type": "code",
   "execution_count": 47,
   "id": "f8b57db2",
   "metadata": {},
   "outputs": [],
   "source": [
    "def func(name, number):\n",
    "    print(f\"Name: {name}, number: {number}\")"
   ]
  },
  {
   "cell_type": "code",
   "execution_count": 48,
   "id": "0676dc02",
   "metadata": {},
   "outputs": [
    {
     "name": "stdout",
     "output_type": "stream",
     "text": [
      "Name: jack, number: 102\n"
     ]
    }
   ],
   "source": [
    "func(\"jack\", 102)"
   ]
  },
  {
   "cell_type": "code",
   "execution_count": 49,
   "id": "76ed4bfb",
   "metadata": {},
   "outputs": [],
   "source": [
    "def decorator_func(func):\n",
    "    def wrapper_func(*args):\n",
    "        print(f\"the name of the function is {func.__name__}\")\n",
    "        return func(*args)\n",
    "    \n",
    "    return wrapper_func"
   ]
  },
  {
   "cell_type": "code",
   "execution_count": 50,
   "id": "207906fa",
   "metadata": {},
   "outputs": [],
   "source": [
    "@decorator_func #func = decorator_func(func)\n",
    "def func(name, number):\n",
    "    print(f\"Name: {name}, number: {number}\")"
   ]
  },
  {
   "cell_type": "code",
   "execution_count": 51,
   "id": "f93e5f6c",
   "metadata": {},
   "outputs": [
    {
     "name": "stdout",
     "output_type": "stream",
     "text": [
      "the name of the function is func\n",
      "Name: Jack, number: 102\n"
     ]
    }
   ],
   "source": [
    "# wrapper'a argüman olarak verir bunları\n",
    "func(\"Jack\", 102)"
   ]
  },
  {
   "cell_type": "markdown",
   "id": "841305e1",
   "metadata": {},
   "source": [
    "# 4- Class Oluşturma <a id='class_olusturma'></a>"
   ]
  },
  {
   "cell_type": "markdown",
   "id": "e70a0da1",
   "metadata": {},
   "source": [
    "## Class Tanımlamak\n",
    "\n",
    "- Fonksiyonlarda belirli fonksiyonalite ifade eden kodları bir araya getirmeyi görmüştük. Class mantığında hem fonksiyonalite hem de veriyi bir arada tutma yoluna bakacağız.\n",
    "- Class'ın içerisindeki verilere (datalara) **attribute**, fonksiyonlara **method** diyeceğiz.\n",
    "- Diyelim ki bir iş yeri çalışanları kodumuzda ifade etmek istiyoruz. Sanki bu **class** mantığı ile uyumlu. Her çalışanın farklı farklı özellikleri (attributeları) ve yaptıkları şeyler (methodları) olacak.\n",
    "- Fonksiyonları tanımlarken **def** kullanıyorduk, class yaratırken **class** ile tanımlayacağız.\n",
    "- Class'ın içerisinde method yaratırken, class'tan yaratılan objeyi methodlar ilk argüman olarak alırlar. İstediğimiz adı verebiliriz ama genellikle **self** diye geçer."
   ]
  },
  {
   "cell_type": "markdown",
   "id": "419db5c5",
   "metadata": {},
   "source": [
    "## Attribute"
   ]
  },
  {
   "cell_type": "code",
   "execution_count": 52,
   "id": "80a2d67b",
   "metadata": {},
   "outputs": [],
   "source": [
    "class Employee():\n",
    "    pass"
   ]
  },
  {
   "cell_type": "code",
   "execution_count": 53,
   "id": "30c76483",
   "metadata": {},
   "outputs": [],
   "source": [
    "e = Employee()"
   ]
  },
  {
   "cell_type": "code",
   "execution_count": 54,
   "id": "427f3553",
   "metadata": {},
   "outputs": [],
   "source": [
    "# e objesine \"a\" attribute'u ekledik\n",
    "e.a = 4"
   ]
  },
  {
   "cell_type": "code",
   "execution_count": 55,
   "id": "18386652",
   "metadata": {},
   "outputs": [
    {
     "data": {
      "text/plain": [
       "4"
      ]
     },
     "execution_count": 55,
     "metadata": {},
     "output_type": "execute_result"
    }
   ],
   "source": [
    "e.a"
   ]
  },
  {
   "cell_type": "markdown",
   "id": "1cfe269e",
   "metadata": {},
   "source": [
    "- Böyle tek tek belirtmek yerine en başta oluştururken de attribute'ları verebiliriz."
   ]
  },
  {
   "cell_type": "code",
   "execution_count": 56,
   "id": "c8f54a95",
   "metadata": {},
   "outputs": [],
   "source": [
    "class Employee:\n",
    "    def __init__(self, name, last, age, pay):\n",
    "        self.name = name\n",
    "        self.last = last\n",
    "        self.age = age\n",
    "        self.pay = pay"
   ]
  },
  {
   "cell_type": "markdown",
   "id": "724a5f60",
   "metadata": {},
   "source": [
    "- Class bunlardan **obje**'ler yaratmak için bir kalıptır sadece!"
   ]
  },
  {
   "cell_type": "code",
   "execution_count": 57,
   "id": "8b8bd455",
   "metadata": {},
   "outputs": [],
   "source": [
    "emp_1 = Employee(\"James\", \"Hughes\", \"32\", 5000)"
   ]
  },
  {
   "cell_type": "markdown",
   "id": "d1871d79",
   "metadata": {},
   "source": [
    "- Yukarıda yarattığımız bir obje oldu, _Employee_ class'ının bir objesi."
   ]
  },
  {
   "cell_type": "code",
   "execution_count": 58,
   "id": "1cf7a6f5",
   "metadata": {},
   "outputs": [],
   "source": [
    "emp_2 = Employee(\"Charlie\", \"Brown\", \"22\", 3000)"
   ]
  },
  {
   "cell_type": "code",
   "execution_count": 59,
   "id": "4ce9808d",
   "metadata": {},
   "outputs": [
    {
     "data": {
      "text/plain": [
       "'James'"
      ]
     },
     "execution_count": 59,
     "metadata": {},
     "output_type": "execute_result"
    }
   ],
   "source": [
    "emp_1.name"
   ]
  },
  {
   "cell_type": "markdown",
   "id": "18a5a497",
   "metadata": {},
   "source": [
    "- Burada yarattığımız bütün attribute'lar **instance variable**. Her obje (class'tan yaratılan instance), kendine özel attribute'a sahip (iki kişinin adı aynı olabilir, ama hepsi için ayrı bir variable var ve hepsi kendi _age_ attribute'unda tutuyor)."
   ]
  },
  {
   "cell_type": "markdown",
   "id": "04f7808f",
   "metadata": {},
   "source": [
    "## Method"
   ]
  },
  {
   "cell_type": "code",
   "execution_count": 60,
   "id": "44eea79e",
   "metadata": {},
   "outputs": [],
   "source": [
    "class Employee:\n",
    "    def __init__(self, name, last, age, pay):\n",
    "        self.name = name\n",
    "        self.last = last\n",
    "        self.age = age\n",
    "        self.pay = pay\n",
    "        \n",
    "    def fullname(self):\n",
    "        print(f\"{self.name} {self.last}\")"
   ]
  },
  {
   "cell_type": "code",
   "execution_count": 61,
   "id": "9d2048e3",
   "metadata": {},
   "outputs": [],
   "source": [
    "emp_1 = Employee(\"James\", \"Hughes\", \"32\", 5000)\n",
    "emp_2 = Employee(\"Charlie\", \"Brown\", \"22\", 3000)"
   ]
  },
  {
   "cell_type": "code",
   "execution_count": 62,
   "id": "4e4e6bc0",
   "metadata": {},
   "outputs": [
    {
     "name": "stdout",
     "output_type": "stream",
     "text": [
      "James Hughes\n"
     ]
    }
   ],
   "source": [
    "emp_1.fullname()"
   ]
  },
  {
   "cell_type": "code",
   "execution_count": 63,
   "id": "0742d2da",
   "metadata": {},
   "outputs": [
    {
     "name": "stdout",
     "output_type": "stream",
     "text": [
      "Charlie Brown\n"
     ]
    }
   ],
   "source": [
    "emp_2.fullname()"
   ]
  },
  {
   "cell_type": "markdown",
   "id": "08694ab9",
   "metadata": {},
   "source": [
    "- Aslında arka planda olan şu:"
   ]
  },
  {
   "cell_type": "code",
   "execution_count": 64,
   "id": "cabee85e",
   "metadata": {},
   "outputs": [],
   "source": [
    "class Employee:\n",
    "    def __init__(self, name, last, age, pay):\n",
    "        self.name = name\n",
    "        self.last = last\n",
    "        self.age = age\n",
    "        self.pay = pay\n",
    "        \n",
    "    def fullname(self):\n",
    "        print(f\"{self.name} {self.last}\")"
   ]
  },
  {
   "cell_type": "code",
   "execution_count": 65,
   "id": "800fa8af",
   "metadata": {},
   "outputs": [],
   "source": [
    "emp_1 = Employee(\"James\", \"Hughes\", \"32\", 5000)"
   ]
  },
  {
   "cell_type": "code",
   "execution_count": 66,
   "id": "26422d2f",
   "metadata": {
    "scrolled": true
   },
   "outputs": [
    {
     "name": "stdout",
     "output_type": "stream",
     "text": [
      "James Hughes\n"
     ]
    }
   ],
   "source": [
    "Employee.fullname(emp_1)"
   ]
  },
  {
   "cell_type": "markdown",
   "id": "51c63140",
   "metadata": {},
   "source": [
    "# 5- Class Variable <a id='class_variable'></a>"
   ]
  },
  {
   "cell_type": "code",
   "execution_count": 67,
   "id": "f7e6d984",
   "metadata": {},
   "outputs": [],
   "source": [
    "class Employee:\n",
    "    def __init__(self, name, last, age, pay):\n",
    "        self.name = name\n",
    "        self.last = last\n",
    "        self.age = age\n",
    "        self.pay = pay\n",
    "        \n",
    "    def fullname(self):\n",
    "        print(f\"{self.name} {self.last}\")"
   ]
  },
  {
   "cell_type": "code",
   "execution_count": 68,
   "id": "b4d2f689",
   "metadata": {},
   "outputs": [],
   "source": [
    "emp_1 = Employee(\"James\", \"Hughes\", \"32\", 5000)\n",
    "emp_2 = Employee(\"Charlie\", \"Brown\", \"22\", 3000)"
   ]
  },
  {
   "cell_type": "markdown",
   "id": "ef4046cb",
   "metadata": {},
   "source": [
    "- **Instance Variable**: Class'tan yaratılan objelerin kendine özgü değişkenleri. Bu örnekteki _name_, _last_, _age_, _pay_ gibi\n",
    "- **Class Variable**: Class'tan yaratılan tüm objelerde paylaşılan değişkenler\n",
    "- Instance variable her obje için farklı olabilir, ama class variable hepsi için aynı olmak zorunda\n",
    "- Tüm çalışanlar arasında hangi verinin paylaşılmasını isteyebilirim? Mesela şirket herkese aynı yüzdelik zam uyguluyorsa bunun yüzdesini class variable'ı olarak tutabilirim"
   ]
  },
  {
   "cell_type": "code",
   "execution_count": 69,
   "id": "182e49cd",
   "metadata": {},
   "outputs": [],
   "source": [
    "class Employee:\n",
    "    \n",
    "    raise_percent = 1.05\n",
    "    \n",
    "    def __init__(self, name, last, age, pay):\n",
    "        self.name = name\n",
    "        self.last = last\n",
    "        self.age = age\n",
    "        self.pay = pay\n",
    "        \n",
    "    def apply_raise(self):\n",
    "        self.pay = self.pay * raise_percent"
   ]
  },
  {
   "cell_type": "code",
   "execution_count": 70,
   "id": "731150ee",
   "metadata": {},
   "outputs": [],
   "source": [
    "emp_1 = Employee(\"James\", \"Hughes\", \"32\", 5000)"
   ]
  },
  {
   "cell_type": "markdown",
   "id": "2a981c78",
   "metadata": {},
   "source": [
    "- Class variable'larına ulaşmak için ya genel Class üzerinden ya da o sırada oluşturduğumuz obje üzerinden ulaşmamız lazım"
   ]
  },
  {
   "cell_type": "code",
   "execution_count": 71,
   "id": "0d6028c7",
   "metadata": {},
   "outputs": [
    {
     "data": {
      "text/plain": [
       "1.05"
      ]
     },
     "execution_count": 71,
     "metadata": {},
     "output_type": "execute_result"
    }
   ],
   "source": [
    "emp_1.raise_percent"
   ]
  },
  {
   "cell_type": "code",
   "execution_count": 72,
   "id": "3ff43f2e",
   "metadata": {},
   "outputs": [
    {
     "data": {
      "text/plain": [
       "1.05"
      ]
     },
     "execution_count": 72,
     "metadata": {},
     "output_type": "execute_result"
    }
   ],
   "source": [
    "Employee.raise_percent"
   ]
  },
  {
   "cell_type": "code",
   "execution_count": 73,
   "id": "a9735d3d",
   "metadata": {},
   "outputs": [],
   "source": [
    "class Employee:\n",
    "    \n",
    "    raise_percent = 1.05\n",
    "    \n",
    "    def __init__(self, name, last, age, pay):\n",
    "        self.name = name\n",
    "        self.last = last\n",
    "        self.age = age\n",
    "        self.pay = pay\n",
    "        \n",
    "    def apply_raise(self):\n",
    "        self.pay = self.pay * Employee.raise_percent"
   ]
  },
  {
   "cell_type": "code",
   "execution_count": 74,
   "id": "78c3c850",
   "metadata": {},
   "outputs": [],
   "source": [
    "emp_1 = Employee(\"James\", \"Hughes\", \"32\", 5000)\n",
    "emp_2 = Employee(\"Charlie\", \"Brown\", \"22\", 3000)"
   ]
  },
  {
   "cell_type": "code",
   "execution_count": 75,
   "id": "31bd9b87",
   "metadata": {},
   "outputs": [
    {
     "data": {
      "text/plain": [
       "5000"
      ]
     },
     "execution_count": 75,
     "metadata": {},
     "output_type": "execute_result"
    }
   ],
   "source": [
    "emp_1.pay"
   ]
  },
  {
   "cell_type": "code",
   "execution_count": 76,
   "id": "852fa949",
   "metadata": {},
   "outputs": [],
   "source": [
    "emp_1.apply_raise()"
   ]
  },
  {
   "cell_type": "code",
   "execution_count": 77,
   "id": "7094c0ad",
   "metadata": {},
   "outputs": [
    {
     "data": {
      "text/plain": [
       "5250.0"
      ]
     },
     "execution_count": 77,
     "metadata": {},
     "output_type": "execute_result"
    }
   ],
   "source": [
    "emp_1.pay"
   ]
  },
  {
   "cell_type": "code",
   "execution_count": 78,
   "id": "dc4568ad",
   "metadata": {},
   "outputs": [
    {
     "data": {
      "text/plain": [
       "3000"
      ]
     },
     "execution_count": 78,
     "metadata": {},
     "output_type": "execute_result"
    }
   ],
   "source": [
    "emp_2.pay"
   ]
  },
  {
   "cell_type": "code",
   "execution_count": 79,
   "id": "fa97da09",
   "metadata": {},
   "outputs": [],
   "source": [
    "emp_2.apply_raise()"
   ]
  },
  {
   "cell_type": "code",
   "execution_count": 80,
   "id": "ae77a2fc",
   "metadata": {},
   "outputs": [
    {
     "data": {
      "text/plain": [
       "3150.0"
      ]
     },
     "execution_count": 80,
     "metadata": {},
     "output_type": "execute_result"
    }
   ],
   "source": [
    "emp_2.pay"
   ]
  },
  {
   "cell_type": "code",
   "execution_count": 81,
   "id": "39d8012d",
   "metadata": {},
   "outputs": [],
   "source": [
    "class Employee:\n",
    "    \n",
    "    raise_percent = 1.05\n",
    "    \n",
    "    def __init__(self, name, last, age, pay):\n",
    "        self.name = name\n",
    "        self.last = last\n",
    "        self.age = age\n",
    "        self.pay = pay\n",
    "        \n",
    "    def apply_raise(self):\n",
    "        self.pay = self.pay * self.raise_percent"
   ]
  },
  {
   "cell_type": "code",
   "execution_count": 82,
   "id": "eecd6fd7",
   "metadata": {},
   "outputs": [],
   "source": [
    "emp_1 = Employee(\"James\", \"Hughes\", \"32\", 5000)\n",
    "emp_2 = Employee(\"Charlie\", \"Brown\", \"22\", 3000)"
   ]
  },
  {
   "cell_type": "code",
   "execution_count": 83,
   "id": "0bf026bf",
   "metadata": {},
   "outputs": [
    {
     "data": {
      "text/plain": [
       "5000"
      ]
     },
     "execution_count": 83,
     "metadata": {},
     "output_type": "execute_result"
    }
   ],
   "source": [
    "emp_1.pay"
   ]
  },
  {
   "cell_type": "code",
   "execution_count": 84,
   "id": "c05c6bca",
   "metadata": {},
   "outputs": [],
   "source": [
    "emp_1.apply_raise()"
   ]
  },
  {
   "cell_type": "code",
   "execution_count": 85,
   "id": "bbcca493",
   "metadata": {},
   "outputs": [
    {
     "data": {
      "text/plain": [
       "5250.0"
      ]
     },
     "execution_count": 85,
     "metadata": {},
     "output_type": "execute_result"
    }
   ],
   "source": [
    "emp_1.pay"
   ]
  },
  {
   "cell_type": "markdown",
   "id": "c0c03fec",
   "metadata": {},
   "source": [
    "- emp_1.raise_percent --> ilk olarak bu instance'a bakar, eğer bulamazsa class variable olarak var mı diye bakar"
   ]
  },
  {
   "cell_type": "code",
   "execution_count": 86,
   "id": "e815e0e7",
   "metadata": {},
   "outputs": [
    {
     "name": "stdout",
     "output_type": "stream",
     "text": [
      "{'name': 'James', 'last': 'Hughes', 'age': '32', 'pay': 5250.0}\n"
     ]
    }
   ],
   "source": [
    "print(emp_1.__dict__) # objenin attribute'larını döndürür"
   ]
  },
  {
   "cell_type": "code",
   "execution_count": 87,
   "id": "8c7ebb47",
   "metadata": {},
   "outputs": [
    {
     "name": "stdout",
     "output_type": "stream",
     "text": [
      "{'__module__': '__main__', 'raise_percent': 1.05, '__init__': <function Employee.__init__ at 0x000001FE602E1D30>, 'apply_raise': <function Employee.apply_raise at 0x000001FE602E1AF0>, '__dict__': <attribute '__dict__' of 'Employee' objects>, '__weakref__': <attribute '__weakref__' of 'Employee' objects>, '__doc__': None}\n"
     ]
    }
   ],
   "source": [
    "print(Employee.__dict__)"
   ]
  },
  {
   "cell_type": "code",
   "execution_count": 88,
   "id": "83a79c47",
   "metadata": {},
   "outputs": [],
   "source": [
    "emp_1.experience = 10"
   ]
  },
  {
   "cell_type": "code",
   "execution_count": 89,
   "id": "71b923c5",
   "metadata": {},
   "outputs": [
    {
     "name": "stdout",
     "output_type": "stream",
     "text": [
      "{'name': 'James', 'last': 'Hughes', 'age': '32', 'pay': 5250.0, 'experience': 10}\n"
     ]
    }
   ],
   "source": [
    "print(emp_1.__dict__)"
   ]
  },
  {
   "cell_type": "code",
   "execution_count": 90,
   "id": "ca1e59bd",
   "metadata": {},
   "outputs": [
    {
     "name": "stdout",
     "output_type": "stream",
     "text": [
      "{'name': 'Charlie', 'last': 'Brown', 'age': '22', 'pay': 3000}\n"
     ]
    }
   ],
   "source": [
    "print(emp_2.__dict__)"
   ]
  },
  {
   "cell_type": "code",
   "execution_count": 91,
   "id": "42dd2ee1",
   "metadata": {},
   "outputs": [
    {
     "name": "stdout",
     "output_type": "stream",
     "text": [
      "1.05\n",
      "1.05\n",
      "1.05\n"
     ]
    }
   ],
   "source": [
    "print(emp_1.raise_percent)\n",
    "print(emp_2.raise_percent)\n",
    "print(Employee.raise_percent)"
   ]
  },
  {
   "cell_type": "markdown",
   "id": "3ca65347",
   "metadata": {},
   "source": [
    "- Class variable'ı **Class üzerinde** güncellemek hepsinde günceller."
   ]
  },
  {
   "cell_type": "code",
   "execution_count": 92,
   "id": "47575c4f",
   "metadata": {},
   "outputs": [],
   "source": [
    "Employee.raise_percent = 1.06"
   ]
  },
  {
   "cell_type": "code",
   "execution_count": 93,
   "id": "4ba69f8a",
   "metadata": {},
   "outputs": [
    {
     "name": "stdout",
     "output_type": "stream",
     "text": [
      "{'__module__': '__main__', 'raise_percent': 1.06, '__init__': <function Employee.__init__ at 0x000001FE602E1D30>, 'apply_raise': <function Employee.apply_raise at 0x000001FE602E1AF0>, '__dict__': <attribute '__dict__' of 'Employee' objects>, '__weakref__': <attribute '__weakref__' of 'Employee' objects>, '__doc__': None}\n"
     ]
    }
   ],
   "source": [
    "print(Employee.__dict__)"
   ]
  },
  {
   "cell_type": "code",
   "execution_count": 94,
   "id": "84e6a44e",
   "metadata": {},
   "outputs": [
    {
     "name": "stdout",
     "output_type": "stream",
     "text": [
      "1.06\n",
      "1.06\n",
      "1.06\n"
     ]
    }
   ],
   "source": [
    "print(emp_1.raise_percent)\n",
    "print(emp_2.raise_percent)\n",
    "print(Employee.raise_percent)"
   ]
  },
  {
   "cell_type": "markdown",
   "id": "67de9c84",
   "metadata": {},
   "source": [
    "- Class variable'ı **instance (class'tan oluşturulan bir obje) üzerinde** güncellemek, sadece o objenin değerini günceller!"
   ]
  },
  {
   "cell_type": "code",
   "execution_count": 95,
   "id": "933cbdd3",
   "metadata": {},
   "outputs": [],
   "source": [
    "emp_1.raise_percent = 1.07"
   ]
  },
  {
   "cell_type": "markdown",
   "id": "4bde0a1e",
   "metadata": {},
   "source": [
    "- Çünkü normalde kendi üzerinde o attribute olmadığı için class'a bakardı ama bu kendisinde o attribute'u yaratıyor"
   ]
  },
  {
   "cell_type": "code",
   "execution_count": 96,
   "id": "8b1cf179",
   "metadata": {},
   "outputs": [
    {
     "name": "stdout",
     "output_type": "stream",
     "text": [
      "{'name': 'James', 'last': 'Hughes', 'age': '32', 'pay': 5250.0, 'experience': 10, 'raise_percent': 1.07}\n"
     ]
    }
   ],
   "source": [
    "print(emp_1.__dict__)"
   ]
  },
  {
   "cell_type": "code",
   "execution_count": 97,
   "id": "39bc8ec8",
   "metadata": {},
   "outputs": [
    {
     "name": "stdout",
     "output_type": "stream",
     "text": [
      "{'name': 'Charlie', 'last': 'Brown', 'age': '22', 'pay': 3000}\n"
     ]
    }
   ],
   "source": [
    "print(emp_2.__dict__)"
   ]
  },
  {
   "cell_type": "code",
   "execution_count": 98,
   "id": "35e04430",
   "metadata": {},
   "outputs": [
    {
     "name": "stdout",
     "output_type": "stream",
     "text": [
      "1.07\n",
      "1.06\n",
      "1.06\n"
     ]
    }
   ],
   "source": [
    "print(emp_1.raise_percent)\n",
    "print(emp_2.raise_percent)\n",
    "print(Employee.raise_percent)"
   ]
  },
  {
   "cell_type": "markdown",
   "id": "d6d71416",
   "metadata": {},
   "source": [
    "## Kaç Tane Çalışan Olduğunu Class Variable'ı Olarak Tutmak\n",
    "\n",
    "- Her yeni çalışan geldiğinde toplam çalışanı 1 arttırmak istiyorum."
   ]
  },
  {
   "cell_type": "code",
   "execution_count": 99,
   "id": "032a3ac7",
   "metadata": {},
   "outputs": [],
   "source": [
    "class Employee:\n",
    "    \n",
    "    raise_percent = 1.05\n",
    "    num_emp = 0\n",
    "    \n",
    "    def __init__(self, name, last, age, pay):\n",
    "        self.name = name\n",
    "        self.last = last\n",
    "        self.age = age\n",
    "        self.pay = pay\n",
    "        Employee.num_emp += 1\n",
    "        \n",
    "    def apply_raise(self):\n",
    "        self.pay = self.pay * self.raise_percent"
   ]
  },
  {
   "cell_type": "code",
   "execution_count": 100,
   "id": "bef431d4",
   "metadata": {},
   "outputs": [
    {
     "data": {
      "text/plain": [
       "0"
      ]
     },
     "execution_count": 100,
     "metadata": {},
     "output_type": "execute_result"
    }
   ],
   "source": [
    "Employee.num_emp"
   ]
  },
  {
   "cell_type": "code",
   "execution_count": 101,
   "id": "94bd077f",
   "metadata": {},
   "outputs": [],
   "source": [
    "emp_1 = Employee(\"James\", \"Hughes\", \"32\", 5000)"
   ]
  },
  {
   "cell_type": "code",
   "execution_count": 102,
   "id": "47f65a23",
   "metadata": {},
   "outputs": [
    {
     "data": {
      "text/plain": [
       "1"
      ]
     },
     "execution_count": 102,
     "metadata": {},
     "output_type": "execute_result"
    }
   ],
   "source": [
    "Employee.num_emp"
   ]
  },
  {
   "cell_type": "code",
   "execution_count": 103,
   "id": "2ea6bbe2",
   "metadata": {},
   "outputs": [],
   "source": [
    "emp_2 = Employee(\"Charlie\", \"Brown\", \"22\", 3000)"
   ]
  },
  {
   "cell_type": "code",
   "execution_count": 104,
   "id": "40933e6e",
   "metadata": {},
   "outputs": [
    {
     "data": {
      "text/plain": [
       "2"
      ]
     },
     "execution_count": 104,
     "metadata": {},
     "output_type": "execute_result"
    }
   ],
   "source": [
    "Employee.num_emp"
   ]
  },
  {
   "cell_type": "markdown",
   "id": "39850cf8",
   "metadata": {},
   "source": [
    "# 6- Class ve Static Method <a id='class_ve_static_method'></a>"
   ]
  },
  {
   "cell_type": "markdown",
   "id": "309441d2",
   "metadata": {},
   "source": [
    "## Class Method\n",
    "- **@classmethod** decorator methodu ilk argüman olarak instance almak yerine class'ı alacak şekilde günceller"
   ]
  },
  {
   "cell_type": "code",
   "execution_count": 105,
   "id": "f575e044",
   "metadata": {},
   "outputs": [],
   "source": [
    "class Employee:\n",
    "    \n",
    "    raise_percent = 1.05\n",
    "    num_emp = 0\n",
    "    \n",
    "    def __init__(self, name, last, age, pay):\n",
    "        self.name = name\n",
    "        self.last = last\n",
    "        self.age = age\n",
    "        self.pay = pay\n",
    "        Employee.num_emp += 1\n",
    "        \n",
    "    def apply_raise(self):\n",
    "        self.pay = self.pay * self.raise_percent\n",
    "    \n",
    "    @classmethod\n",
    "    def set_raise(cls, amount):\n",
    "        cls.raise_percent = amount"
   ]
  },
  {
   "cell_type": "code",
   "execution_count": 106,
   "id": "ed0ac695",
   "metadata": {},
   "outputs": [],
   "source": [
    "emp_1 = Employee(\"James\", \"Hughes\", \"32\", 5000)\n",
    "emp_2 = Employee(\"Charlie\", \"Brown\", \"22\", 3000)"
   ]
  },
  {
   "cell_type": "code",
   "execution_count": 107,
   "id": "09e7a13b",
   "metadata": {},
   "outputs": [],
   "source": [
    "Employee.set_raise(1.6)"
   ]
  },
  {
   "cell_type": "code",
   "execution_count": 108,
   "id": "90332304",
   "metadata": {},
   "outputs": [
    {
     "name": "stdout",
     "output_type": "stream",
     "text": [
      "1.6\n",
      "1.6\n",
      "1.6\n"
     ]
    }
   ],
   "source": [
    "print(emp_1.raise_percent)\n",
    "print(emp_2.raise_percent)\n",
    "print(Employee.raise_percent)"
   ]
  },
  {
   "cell_type": "code",
   "execution_count": 109,
   "id": "036f980b",
   "metadata": {},
   "outputs": [],
   "source": [
    "emp_1.set_raise(2.3)"
   ]
  },
  {
   "cell_type": "code",
   "execution_count": 110,
   "id": "07c25766",
   "metadata": {},
   "outputs": [
    {
     "name": "stdout",
     "output_type": "stream",
     "text": [
      "2.3\n",
      "2.3\n",
      "2.3\n"
     ]
    }
   ],
   "source": [
    "print(emp_1.raise_percent)\n",
    "print(emp_2.raise_percent)\n",
    "print(Employee.raise_percent)"
   ]
  },
  {
   "cell_type": "markdown",
   "id": "ee503d29",
   "metadata": {},
   "source": [
    "## Alternative Constructor\n",
    "- Diyelim ki bize class'ı oluştururken input olarak string veriyorlar ve bizim bundan name, age gibi bilgileri kendimiz çıkarmamız lazım"
   ]
  },
  {
   "cell_type": "code",
   "execution_count": 111,
   "id": "cd65a536",
   "metadata": {},
   "outputs": [],
   "source": [
    "emp_1_str = \"James-Hughes-32-5000\"\n",
    "emp_2_str = \"Charlie-Brown-22-3000\""
   ]
  },
  {
   "cell_type": "code",
   "execution_count": 112,
   "id": "34510b9f",
   "metadata": {},
   "outputs": [
    {
     "data": {
      "text/plain": [
       "['James', 'Hughes', '32', '5000']"
      ]
     },
     "execution_count": 112,
     "metadata": {},
     "output_type": "execute_result"
    }
   ],
   "source": [
    "emp_1_str.split(\"-\")"
   ]
  },
  {
   "cell_type": "code",
   "execution_count": 113,
   "id": "67ae28dd",
   "metadata": {},
   "outputs": [],
   "source": [
    "name, last, age, pay = emp_1_str.split(\"-\")"
   ]
  },
  {
   "cell_type": "code",
   "execution_count": 114,
   "id": "e07ce2c6",
   "metadata": {},
   "outputs": [],
   "source": [
    "emp_1 = Employee(name, last, age, pay)"
   ]
  },
  {
   "cell_type": "markdown",
   "id": "00578350",
   "metadata": {},
   "source": [
    "- Ama belki her zaman bu şekilde vermeyeceğiz. String olarak input geldiğinde objenin bu şekilde oluşması için başka nasıl bir mekanizma kullanabilirim?\n",
    "\n",
    "- Her seferinde kendim parse etmek yerine bunu bir method olarak yazabilirim."
   ]
  },
  {
   "cell_type": "code",
   "execution_count": 115,
   "id": "b4e7a014",
   "metadata": {},
   "outputs": [],
   "source": [
    "class Employee:\n",
    "    \n",
    "    raise_percent = 1.05\n",
    "    num_emp = 0\n",
    "    \n",
    "    def __init__(self, name, last, age, pay):\n",
    "        self.name = name\n",
    "        self.last = last\n",
    "        self.age = age\n",
    "        self.pay = pay\n",
    "        Employee.num_emp += 1\n",
    "        \n",
    "    def apply_raise(self):\n",
    "        self.pay = self.pay * self.raise_percent\n",
    "    \n",
    "    @classmethod\n",
    "    def set_raise(cls, amount):\n",
    "        cls.raise_percent = amount\n",
    "        \n",
    "    @classmethod\n",
    "    def from_string(cls, emp_str):\n",
    "        name, last, age, pay = emp_1_str.split(\"-\")\n",
    "        return cls(name, last, int(age), float(pay)) # yeni çalışan yaratack ve döndürecek"
   ]
  },
  {
   "cell_type": "code",
   "execution_count": 116,
   "id": "cda36c8f",
   "metadata": {},
   "outputs": [],
   "source": [
    "emp_1_str = \"James-Hughes-32-5000\"\n",
    "emp_2_str = \"Charlie-Brown-22-3000\""
   ]
  },
  {
   "cell_type": "code",
   "execution_count": 117,
   "id": "018a8b20",
   "metadata": {},
   "outputs": [],
   "source": [
    "emp_1 = Employee.from_string(emp_1_str)"
   ]
  },
  {
   "cell_type": "code",
   "execution_count": 118,
   "id": "579c8875",
   "metadata": {},
   "outputs": [
    {
     "data": {
      "text/plain": [
       "5000.0"
      ]
     },
     "execution_count": 118,
     "metadata": {},
     "output_type": "execute_result"
    }
   ],
   "source": [
    "emp_1.pay"
   ]
  },
  {
   "cell_type": "markdown",
   "id": "8c3a3192",
   "metadata": {},
   "source": [
    "## Static Method\n",
    "\n",
    "- **Regular method**'lar (ilk gördüklerimiz), class'ın instance'ını (oluşturulan objeyi), methodlara otomatik olarak argüman olarak veriyordu (self olarak). **Class methodları** class'ı otomatik olarak argüman olarak veriyor. **Static methodlar** otomatik olarak bir şey vermeyen methodlar olacak.\n",
    "- Instance veya class'a methodun içerisinde erişim olmuyorsa static olarak tanımlamak daha iyi olabilir."
   ]
  },
  {
   "cell_type": "code",
   "execution_count": 119,
   "id": "5f79d3e9",
   "metadata": {},
   "outputs": [],
   "source": [
    "class Employee:\n",
    "    \n",
    "    raise_percent = 1.05\n",
    "    num_emp = 0\n",
    "    \n",
    "    def __init__(self, name, last, age, pay):\n",
    "        self.name = name\n",
    "        self.last = last\n",
    "        self.age = age\n",
    "        self.pay = pay\n",
    "        Employee.num_emp += 1\n",
    "        \n",
    "    def apply_raise(self):\n",
    "        self.pay = self.pay * self.raise_percent\n",
    "    \n",
    "    @classmethod\n",
    "    def set_raise(cls, amount):\n",
    "        cls.raise_percent = amount\n",
    "        \n",
    "    @classmethod\n",
    "    def from_string(cls, emp_str):\n",
    "        name, last, age, pay = emp_1_str.split(\"-\")\n",
    "        return cls(name, last, int(age), float(pay)) # yeni çalışan yaratack ve döndürecek\n",
    "    \n",
    "    @staticmethod\n",
    "    def holiday_print(day):\n",
    "        if day == \"weekend\":\n",
    "            print(\"This is an off day\")\n",
    "        else:\n",
    "            print(\"This is not an off day\")"
   ]
  },
  {
   "cell_type": "code",
   "execution_count": 120,
   "id": "7b1cefeb",
   "metadata": {},
   "outputs": [
    {
     "name": "stdout",
     "output_type": "stream",
     "text": [
      "This is an off day\n"
     ]
    }
   ],
   "source": [
    "Employee.holiday_print(\"weekend\")"
   ]
  },
  {
   "cell_type": "code",
   "execution_count": 121,
   "id": "349a9aaa",
   "metadata": {},
   "outputs": [],
   "source": [
    "emp_1 = Employee(\"James\", \"Hughes\", \"32\", 5000)"
   ]
  },
  {
   "cell_type": "code",
   "execution_count": 122,
   "id": "ee6e20bc",
   "metadata": {},
   "outputs": [
    {
     "name": "stdout",
     "output_type": "stream",
     "text": [
      "This is not an off day\n"
     ]
    }
   ],
   "source": [
    "emp_1.holiday_print(\"working day\")"
   ]
  },
  {
   "cell_type": "markdown",
   "id": "98abda4e",
   "metadata": {},
   "source": [
    "# 7- Inheritance <a id='inheritance'></a>\n",
    "\n",
    "- Inheritance belirttiğimiz başka classlardaki method ve attribute'lara erişmemizi sağlar.\n",
    "- Diyelim ki farklı tipte çalışanlar yaratmak istiyorum. IT ve HR çalışanları olsun."
   ]
  },
  {
   "cell_type": "code",
   "execution_count": 123,
   "id": "bc9bfcbd",
   "metadata": {},
   "outputs": [],
   "source": [
    "class Employee:\n",
    "    \n",
    "    raise_percent = 1.05\n",
    "    num_emp = 0\n",
    "    \n",
    "    def __init__(self, name, last, age, pay):\n",
    "        self.name = name\n",
    "        self.last = last\n",
    "        self.age = age\n",
    "        self.pay = pay\n",
    "        Employee.num_emp += 1\n",
    "        \n",
    "    def apply_raise(self):\n",
    "        self.pay = self.pay * self.raise_percent"
   ]
  },
  {
   "cell_type": "markdown",
   "id": "134e055a",
   "metadata": {},
   "source": [
    "- Hangi class'tan inherit etmek istediğimizi parantez içine yazıyoruz.\n",
    "- Inherit ettiğimiz class'a **parent/super class**, inherit edene de **child/subclass** deniyor."
   ]
  },
  {
   "cell_type": "code",
   "execution_count": 124,
   "id": "ef487b19",
   "metadata": {},
   "outputs": [],
   "source": [
    "emp_1 = Employee(\"James\", \"Hughes\", \"32\", 5000)\n",
    "emp_2 = Employee(\"Charlie\", \"Brown\", \"22\", 3000)"
   ]
  },
  {
   "cell_type": "code",
   "execution_count": 125,
   "id": "0f7c0ae5",
   "metadata": {},
   "outputs": [],
   "source": [
    "class IT(Employee):\n",
    "    pass"
   ]
  },
  {
   "cell_type": "markdown",
   "id": "a2ef739e",
   "metadata": {},
   "source": [
    "- IT'nin içine hiçbir şey yazmasak da, Employee'nin özelliklerine erişimi var\n",
    "- IT'nin içerisinde bulamazsa aradığını, inherit ettiği yere gidip bakacak. IT'nin içerisinde \\_\\_init__ methodu yok, o yüzden gidip Employee class'ına bakacak"
   ]
  },
  {
   "cell_type": "code",
   "execution_count": 126,
   "id": "0e4d3a7e",
   "metadata": {},
   "outputs": [],
   "source": [
    "it_1 = IT(\"James\", \"Hughes\", \"32\", 5000)"
   ]
  },
  {
   "cell_type": "code",
   "execution_count": 127,
   "id": "81cb0796",
   "metadata": {},
   "outputs": [
    {
     "data": {
      "text/plain": [
       "'James'"
      ]
     },
     "execution_count": 127,
     "metadata": {},
     "output_type": "execute_result"
    }
   ],
   "source": [
    "it_1.name"
   ]
  },
  {
   "cell_type": "code",
   "execution_count": 128,
   "id": "56cf313e",
   "metadata": {},
   "outputs": [
    {
     "data": {
      "text/plain": [
       "{'name': 'James', 'last': 'Hughes', 'age': '32', 'pay': 5000}"
      ]
     },
     "execution_count": 128,
     "metadata": {},
     "output_type": "execute_result"
    }
   ],
   "source": [
    "it_1.__dict__"
   ]
  },
  {
   "cell_type": "code",
   "execution_count": 129,
   "id": "eb01c6db",
   "metadata": {},
   "outputs": [
    {
     "data": {
      "text/plain": [
       "5000"
      ]
     },
     "execution_count": 129,
     "metadata": {},
     "output_type": "execute_result"
    }
   ],
   "source": [
    "it_1.pay"
   ]
  },
  {
   "cell_type": "code",
   "execution_count": 130,
   "id": "2dded3f1",
   "metadata": {},
   "outputs": [],
   "source": [
    "it_1.apply_raise()"
   ]
  },
  {
   "cell_type": "code",
   "execution_count": 131,
   "id": "ec7e67a8",
   "metadata": {},
   "outputs": [
    {
     "data": {
      "text/plain": [
       "5250.0"
      ]
     },
     "execution_count": 131,
     "metadata": {},
     "output_type": "execute_result"
    }
   ],
   "source": [
    "it_1.pay"
   ]
  },
  {
   "cell_type": "markdown",
   "id": "71bbae11",
   "metadata": {},
   "source": [
    "- Diyelim ki IT'dekilerin yüzdelik maaş değişimini farklı bir değer olarak belirlemek istiyorum"
   ]
  },
  {
   "cell_type": "code",
   "execution_count": 132,
   "id": "89916be8",
   "metadata": {},
   "outputs": [],
   "source": [
    "class IT(Employee):\n",
    "    raise_percent = 1.2"
   ]
  },
  {
   "cell_type": "code",
   "execution_count": 133,
   "id": "cc54bf6a",
   "metadata": {},
   "outputs": [],
   "source": [
    "it_1 = IT(\"James\", \"Hughes\", \"32\", 5000)"
   ]
  },
  {
   "cell_type": "code",
   "execution_count": 134,
   "id": "7ca3e2a6",
   "metadata": {},
   "outputs": [
    {
     "data": {
      "text/plain": [
       "5000"
      ]
     },
     "execution_count": 134,
     "metadata": {},
     "output_type": "execute_result"
    }
   ],
   "source": [
    "it_1.pay"
   ]
  },
  {
   "cell_type": "markdown",
   "id": "088e4845",
   "metadata": {},
   "source": [
    "- Employee'nin raise_percent attribute'unu kullanmak yerine kendisi içinde belirttiğimizi kullanıyor. Kendi içerisinde bulabilirse kullanıyor, bulamazsa inherit ettiği yere bakıyor."
   ]
  },
  {
   "cell_type": "code",
   "execution_count": 135,
   "id": "11544899",
   "metadata": {},
   "outputs": [
    {
     "data": {
      "text/plain": [
       "1.2"
      ]
     },
     "execution_count": 135,
     "metadata": {},
     "output_type": "execute_result"
    }
   ],
   "source": [
    "it_1.raise_percent"
   ]
  },
  {
   "cell_type": "code",
   "execution_count": 136,
   "id": "04df3e9e",
   "metadata": {},
   "outputs": [],
   "source": [
    "it_1.apply_raise()"
   ]
  },
  {
   "cell_type": "code",
   "execution_count": 137,
   "id": "9f3eb7ff",
   "metadata": {},
   "outputs": [
    {
     "data": {
      "text/plain": [
       "6000.0"
      ]
     },
     "execution_count": 137,
     "metadata": {},
     "output_type": "execute_result"
    }
   ],
   "source": [
    "it_1.pay"
   ]
  },
  {
   "cell_type": "markdown",
   "id": "4bf82b63",
   "metadata": {},
   "source": [
    "- IT'nin raise_percent'ini değiştirmek, inherit ettiği yerinkini değiştirmez"
   ]
  },
  {
   "cell_type": "code",
   "execution_count": 138,
   "id": "01c4b2c7",
   "metadata": {},
   "outputs": [
    {
     "data": {
      "text/plain": [
       "1.05"
      ]
     },
     "execution_count": 138,
     "metadata": {},
     "output_type": "execute_result"
    }
   ],
   "source": [
    "Employee.raise_percent"
   ]
  },
  {
   "cell_type": "markdown",
   "id": "9feca2d5",
   "metadata": {},
   "source": [
    "- **subclass**'ta yaptığımız değişiklik parent class'ı etkilemez\n",
    "- Diyelim ki IT'cilere yeni bir özellik olarak hangi programlama dili bildiklerini de eklemek istiyorum"
   ]
  },
  {
   "cell_type": "code",
   "execution_count": 139,
   "id": "e31fa11b",
   "metadata": {},
   "outputs": [],
   "source": [
    "class IT(Employee):\n",
    "    raise_percent = 1.2\n",
    "    def __init__(self, name, last, age, pay, lang):\n",
    "        self.name = name\n",
    "        self.last = last\n",
    "        self.age = age\n",
    "        self.pay = pay\n",
    "        self.lang = lang"
   ]
  },
  {
   "cell_type": "code",
   "execution_count": 140,
   "id": "5c8827e0",
   "metadata": {},
   "outputs": [],
   "source": [
    "it_1 = IT(\"James\", \"Hughes\", \"32\", 5000, \"python\")"
   ]
  },
  {
   "cell_type": "code",
   "execution_count": 141,
   "id": "97442cca",
   "metadata": {},
   "outputs": [
    {
     "data": {
      "text/plain": [
       "'python'"
      ]
     },
     "execution_count": 141,
     "metadata": {},
     "output_type": "execute_result"
    }
   ],
   "source": [
    "it_1.lang"
   ]
  },
  {
   "cell_type": "markdown",
   "id": "57bdaf7d",
   "metadata": {},
   "source": [
    "- Ama bunun yerine şöyle de yapılabilirdi"
   ]
  },
  {
   "cell_type": "code",
   "execution_count": 142,
   "id": "bee1c78a",
   "metadata": {},
   "outputs": [],
   "source": [
    "class IT(Employee):\n",
    "    raise_percent = 1.2\n",
    "    def __init__(self, name, last, age, pay, lang):\n",
    "        super().__init__(name, last, age, pay)\n",
    "        self.lang = lang"
   ]
  },
  {
   "cell_type": "markdown",
   "id": "a43c2aa2",
   "metadata": {},
   "source": [
    "- Böylece aynı kodu tekrar tekrar yazmamış olduk. Zaten superclass'ın init method'u yapıyorsa yeniden yazmaya gerek yok"
   ]
  },
  {
   "cell_type": "code",
   "execution_count": 143,
   "id": "73124d89",
   "metadata": {},
   "outputs": [],
   "source": [
    "it_1 = IT(\"James\", \"Hughes\", \"32\", 5000, \"python\")"
   ]
  },
  {
   "cell_type": "code",
   "execution_count": 144,
   "id": "b4374483",
   "metadata": {},
   "outputs": [
    {
     "data": {
      "text/plain": [
       "'James'"
      ]
     },
     "execution_count": 144,
     "metadata": {},
     "output_type": "execute_result"
    }
   ],
   "source": [
    "it_1.name"
   ]
  },
  {
   "cell_type": "code",
   "execution_count": 145,
   "id": "2de1b151",
   "metadata": {},
   "outputs": [
    {
     "data": {
      "text/plain": [
       "'python'"
      ]
     },
     "execution_count": 145,
     "metadata": {},
     "output_type": "execute_result"
    }
   ],
   "source": [
    "it_1.lang"
   ]
  },
  {
   "cell_type": "code",
   "execution_count": 146,
   "id": "b973acf6",
   "metadata": {},
   "outputs": [],
   "source": [
    "class IK(Employee):\n",
    "    raise_percent = 1.3\n",
    "    def __init__(self, name, last, age, pay, experience):\n",
    "        super().__init__(name, last, age, pay)\n",
    "        self.experience = experience\n",
    "    \n",
    "    def print_exp(self):\n",
    "        print(f\"This employee has {self.experience} years of experience\")"
   ]
  },
  {
   "cell_type": "code",
   "execution_count": 147,
   "id": "5af08eda",
   "metadata": {},
   "outputs": [],
   "source": [
    "ik_1 = IK(\"Charlie\", \"Brown\", \"22\", 3000, 12)"
   ]
  },
  {
   "cell_type": "code",
   "execution_count": 148,
   "id": "b2a931dc",
   "metadata": {},
   "outputs": [
    {
     "name": "stdout",
     "output_type": "stream",
     "text": [
      "This employee has 12 years of experience\n"
     ]
    }
   ],
   "source": [
    "ik_1.print_exp()"
   ]
  },
  {
   "cell_type": "code",
   "execution_count": 149,
   "id": "c913f294",
   "metadata": {},
   "outputs": [
    {
     "data": {
      "text/plain": [
       "True"
      ]
     },
     "execution_count": 149,
     "metadata": {},
     "output_type": "execute_result"
    }
   ],
   "source": [
    "isinstance(ik_1, IK)"
   ]
  },
  {
   "cell_type": "code",
   "execution_count": 150,
   "id": "45458ac5",
   "metadata": {},
   "outputs": [
    {
     "data": {
      "text/plain": [
       "True"
      ]
     },
     "execution_count": 150,
     "metadata": {},
     "output_type": "execute_result"
    }
   ],
   "source": [
    "isinstance(ik_1, Employee)"
   ]
  },
  {
   "cell_type": "code",
   "execution_count": 151,
   "id": "f792c30b",
   "metadata": {},
   "outputs": [
    {
     "data": {
      "text/plain": [
       "True"
      ]
     },
     "execution_count": 151,
     "metadata": {},
     "output_type": "execute_result"
    }
   ],
   "source": [
    "issubclass(IK, Employee)"
   ]
  },
  {
   "cell_type": "code",
   "execution_count": 152,
   "id": "24addb0a",
   "metadata": {},
   "outputs": [
    {
     "data": {
      "text/plain": [
       "True"
      ]
     },
     "execution_count": 152,
     "metadata": {},
     "output_type": "execute_result"
    }
   ],
   "source": [
    "issubclass(IT, Employee)"
   ]
  },
  {
   "cell_type": "code",
   "execution_count": 153,
   "id": "51bc3669",
   "metadata": {},
   "outputs": [
    {
     "data": {
      "text/plain": [
       "False"
      ]
     },
     "execution_count": 153,
     "metadata": {},
     "output_type": "execute_result"
    }
   ],
   "source": [
    "issubclass(IT, IK)"
   ]
  },
  {
   "cell_type": "markdown",
   "id": "221d3515",
   "metadata": {},
   "source": [
    "# 8- Magic Method <a id='magic_method'></a>\n",
    "\n",
    "- _Magic Method_'ları kullanarak bazı built-in davranışları değiştirebiliriz. Magic Method'lar __ ile çevrilidir. Bunlara **dunder method** da denir."
   ]
  },
  {
   "cell_type": "code",
   "execution_count": 154,
   "id": "fc41b41c",
   "metadata": {},
   "outputs": [],
   "source": [
    "class Employee:\n",
    "    \n",
    "    raise_percent = 1.05\n",
    "    num_emp = 0\n",
    "    \n",
    "    def __init__(self, name, last, age, pay):\n",
    "        self.name = name\n",
    "        self.last = last\n",
    "        self.age = age\n",
    "        self.pay = pay\n",
    "        Employee.num_emp += 1\n",
    "        \n",
    "    def apply_raise(self):\n",
    "        self.pay = self.pay * self.raise_percent"
   ]
  },
  {
   "cell_type": "code",
   "execution_count": 155,
   "id": "d3b35352",
   "metadata": {},
   "outputs": [],
   "source": [
    "emp_1 = Employee(\"James\", \"Hughes\", \"32\", 5000)\n",
    "emp_2 = Employee(\"Charlie\", \"Brown\", \"22\", 3000)"
   ]
  },
  {
   "cell_type": "markdown",
   "id": "b574281c",
   "metadata": {},
   "source": [
    "## \\_\\_init__()\n",
    "\n",
    "- emp_1 = Employee(\"James\", \"Hughes\", \"32\", 5000) gibi class'dan obje oluşturma kısmında çağrılır. Class(...) formatında input olarak verilenleri argüman olarak alır kendine"
   ]
  },
  {
   "cell_type": "markdown",
   "id": "af1a80f8",
   "metadata": {},
   "source": [
    "## \\_\\_str__()\n",
    "\n",
    "- Objenin okunabilir bir tanımını oluştururuz"
   ]
  },
  {
   "cell_type": "code",
   "execution_count": 156,
   "id": "2b3340a5",
   "metadata": {},
   "outputs": [],
   "source": [
    "class Employee:\n",
    "    \n",
    "    raise_percent = 1.05\n",
    "    num_emp = 0\n",
    "    \n",
    "    def __init__(self, name, last, age, pay):\n",
    "        self.name = name\n",
    "        self.last = last\n",
    "        self.age = age\n",
    "        self.pay = pay\n",
    "        Employee.num_emp += 1\n",
    "        \n",
    "    def apply_raise(self):\n",
    "        self.pay = self.pay * self.raise_percent\n",
    "        \n",
    "    def __str__(self):\n",
    "        return f\"Employee(name={self.name}, last={self.last}, age={self.age}, pay={self.pay})\""
   ]
  },
  {
   "cell_type": "code",
   "execution_count": 157,
   "id": "3f8a01dc",
   "metadata": {},
   "outputs": [],
   "source": [
    "emp_1 = Employee(\"James\", \"Hughes\", \"32\", 5000)"
   ]
  },
  {
   "cell_type": "code",
   "execution_count": 158,
   "id": "1142dd56",
   "metadata": {},
   "outputs": [
    {
     "name": "stdout",
     "output_type": "stream",
     "text": [
      "Employee(name=James, last=Hughes, age=32, pay=5000)\n"
     ]
    }
   ],
   "source": [
    "print(emp_1)"
   ]
  },
  {
   "cell_type": "markdown",
   "id": "2799ff4b",
   "metadata": {},
   "source": [
    "## \\_\\_add__()"
   ]
  },
  {
   "cell_type": "code",
   "execution_count": 159,
   "id": "025fca36",
   "metadata": {},
   "outputs": [],
   "source": [
    "class Employee:\n",
    "    \n",
    "    raise_percent = 1.05\n",
    "    num_emp = 0\n",
    "    \n",
    "    def __init__(self, name, last, age, pay):\n",
    "        self.name = name\n",
    "        self.last = last\n",
    "        self.age = age\n",
    "        self.pay = pay\n",
    "        Employee.num_emp += 1\n",
    "        \n",
    "    def apply_raise(self):\n",
    "        self.pay = self.pay * self.raise_percent\n",
    "        \n",
    "    def __str__(self):\n",
    "        return f\"Employee(name={self.name}, last={self.last}, age={self.age}, pay={self.pay})\"\n",
    "    \n",
    "    def __add__(self, other):\n",
    "        return self.pay + other.pay"
   ]
  },
  {
   "cell_type": "code",
   "execution_count": 160,
   "id": "e2db5dc9",
   "metadata": {},
   "outputs": [],
   "source": [
    "emp_1 = Employee(\"James\", \"Hughes\", \"32\", 5000)\n",
    "emp_2 = Employee(\"Charlie\", \"Brown\", \"22\", 3000)"
   ]
  },
  {
   "cell_type": "code",
   "execution_count": 161,
   "id": "e8107c08",
   "metadata": {},
   "outputs": [
    {
     "data": {
      "text/plain": [
       "8000"
      ]
     },
     "execution_count": 161,
     "metadata": {},
     "output_type": "execute_result"
    }
   ],
   "source": [
    "emp_1 + emp_2"
   ]
  },
  {
   "cell_type": "markdown",
   "id": "f9d88011",
   "metadata": {},
   "source": [
    "## \\_\\_len__()"
   ]
  },
  {
   "cell_type": "code",
   "execution_count": 162,
   "id": "8d32e1d3",
   "metadata": {},
   "outputs": [],
   "source": [
    "class Employee:\n",
    "    \n",
    "    raise_percent = 1.05\n",
    "    num_emp = 0\n",
    "    \n",
    "    def __init__(self, name, last, age, pay):\n",
    "        self.name = name\n",
    "        self.last = last\n",
    "        self.age = age\n",
    "        self.pay = pay\n",
    "        Employee.num_emp += 1\n",
    "        \n",
    "    def apply_raise(self):\n",
    "        self.pay = self.pay * self.raise_percent\n",
    "        \n",
    "    def __str__(self):\n",
    "        return f\"Employee(name={self.name}, last={self.last}, age={self.age}, pay={self.pay})\"\n",
    "    \n",
    "    def __add__(self, other):\n",
    "        return self.pay + other.pay\n",
    "    \n",
    "    def __len__(self):\n",
    "        return len(self.name)"
   ]
  },
  {
   "cell_type": "code",
   "execution_count": 163,
   "id": "4b574281",
   "metadata": {},
   "outputs": [],
   "source": [
    "emp_1 = Employee(\"James\", \"Hughes\", \"32\", 5000)\n",
    "emp_2 = Employee(\"Charlie\", \"Brown\", \"22\", 3000)"
   ]
  },
  {
   "cell_type": "code",
   "execution_count": 164,
   "id": "cef07bc2",
   "metadata": {},
   "outputs": [
    {
     "data": {
      "text/plain": [
       "5"
      ]
     },
     "execution_count": 164,
     "metadata": {},
     "output_type": "execute_result"
    }
   ],
   "source": [
    "len(emp_1)"
   ]
  },
  {
   "cell_type": "code",
   "execution_count": 165,
   "id": "67e48ecf",
   "metadata": {},
   "outputs": [
    {
     "data": {
      "text/plain": [
       "7"
      ]
     },
     "execution_count": 165,
     "metadata": {},
     "output_type": "execute_result"
    }
   ],
   "source": [
    "len(emp_2)"
   ]
  },
  {
   "cell_type": "markdown",
   "id": "063fb609",
   "metadata": {},
   "source": [
    "# 9- Generators <a id='generator'></a>\n",
    "\n",
    "- Diyelim ki elimdeki bir listenin elemanlarının karesini almak istiyorum"
   ]
  },
  {
   "cell_type": "code",
   "execution_count": 166,
   "id": "13cebec8",
   "metadata": {},
   "outputs": [],
   "source": [
    "def square(l):\n",
    "    res = []\n",
    "    \n",
    "    for e in l:\n",
    "        res.append(e*e)\n",
    "        \n",
    "    return res"
   ]
  },
  {
   "cell_type": "code",
   "execution_count": 167,
   "id": "f1ecc5db",
   "metadata": {},
   "outputs": [
    {
     "data": {
      "text/plain": [
       "[1, 4, 9]"
      ]
     },
     "execution_count": 167,
     "metadata": {},
     "output_type": "execute_result"
    }
   ],
   "source": [
    "l = [1, 2, 3]\n",
    "\n",
    "square(l)"
   ]
  },
  {
   "cell_type": "markdown",
   "id": "da510f07",
   "metadata": {},
   "source": [
    "- Peki bu değerleri bir anda istemesem de, ben sordukça üretip bana döndürse?\n",
    "\n",
    "- Bunu **generator** mantığı ile yapabiliriz"
   ]
  },
  {
   "cell_type": "code",
   "execution_count": 168,
   "id": "d1b2e9aa",
   "metadata": {},
   "outputs": [],
   "source": [
    "def square_generator(l):\n",
    "    for e in l:\n",
    "        yield e*e"
   ]
  },
  {
   "cell_type": "code",
   "execution_count": 169,
   "id": "67cf04cd",
   "metadata": {},
   "outputs": [],
   "source": [
    "l = [1, 2, 3]\n",
    "g = square_generator(l)"
   ]
  },
  {
   "cell_type": "markdown",
   "id": "4e778b64",
   "metadata": {},
   "source": [
    "- Generator'lar bütün cevabı hafızada tutmazlar, biz sordukça değerleri döndürürler\n",
    "- Generator'lar iterator'dır. **next** ile sonraki değerlerine erişebiliriz"
   ]
  },
  {
   "cell_type": "code",
   "execution_count": 170,
   "id": "53522ee7",
   "metadata": {},
   "outputs": [
    {
     "data": {
      "text/plain": [
       "1"
      ]
     },
     "execution_count": 170,
     "metadata": {},
     "output_type": "execute_result"
    }
   ],
   "source": [
    "next(g)"
   ]
  },
  {
   "cell_type": "code",
   "execution_count": 171,
   "id": "60ddfe71",
   "metadata": {},
   "outputs": [
    {
     "data": {
      "text/plain": [
       "4"
      ]
     },
     "execution_count": 171,
     "metadata": {},
     "output_type": "execute_result"
    }
   ],
   "source": [
    "next(g)"
   ]
  },
  {
   "cell_type": "code",
   "execution_count": 172,
   "id": "0c40baa3",
   "metadata": {},
   "outputs": [
    {
     "data": {
      "text/plain": [
       "9"
      ]
     },
     "execution_count": 172,
     "metadata": {},
     "output_type": "execute_result"
    }
   ],
   "source": [
    "next(g)"
   ]
  },
  {
   "cell_type": "markdown",
   "id": "b014c438",
   "metadata": {},
   "source": [
    "- Değerleri arasında iterasyonu **for** döngüsü ile de yapabilirim"
   ]
  },
  {
   "cell_type": "code",
   "execution_count": 173,
   "id": "64115dbd",
   "metadata": {},
   "outputs": [],
   "source": [
    "g = square_generator(l)"
   ]
  },
  {
   "cell_type": "code",
   "execution_count": 174,
   "id": "67a2de86",
   "metadata": {},
   "outputs": [
    {
     "name": "stdout",
     "output_type": "stream",
     "text": [
      "1\n",
      "4\n",
      "9\n"
     ]
    }
   ],
   "source": [
    "for res in g:\n",
    "    print(res)"
   ]
  },
  {
   "cell_type": "markdown",
   "id": "0a8e6553",
   "metadata": {},
   "source": [
    "## List Comprehension Oluşturur Gibi Generator Oluşturma"
   ]
  },
  {
   "cell_type": "code",
   "execution_count": 175,
   "id": "cd632c00",
   "metadata": {},
   "outputs": [],
   "source": [
    "l = [x*x for x in [1, 2, 3, 4, 5]]"
   ]
  },
  {
   "cell_type": "code",
   "execution_count": 176,
   "id": "b34ab115",
   "metadata": {},
   "outputs": [
    {
     "data": {
      "text/plain": [
       "[1, 4, 9, 16, 25]"
      ]
     },
     "execution_count": 176,
     "metadata": {},
     "output_type": "execute_result"
    }
   ],
   "source": [
    "l"
   ]
  },
  {
   "cell_type": "code",
   "execution_count": 177,
   "id": "5a745efd",
   "metadata": {},
   "outputs": [],
   "source": [
    "g = (x*x for x in [1, 2, 3, 4, 5])"
   ]
  },
  {
   "cell_type": "code",
   "execution_count": 178,
   "id": "6e6be075",
   "metadata": {},
   "outputs": [
    {
     "data": {
      "text/plain": [
       "<generator object <genexpr> at 0x000001FE6035DC80>"
      ]
     },
     "execution_count": 178,
     "metadata": {},
     "output_type": "execute_result"
    }
   ],
   "source": [
    "g"
   ]
  },
  {
   "cell_type": "code",
   "execution_count": 179,
   "id": "21d34b38",
   "metadata": {},
   "outputs": [
    {
     "data": {
      "text/plain": [
       "1"
      ]
     },
     "execution_count": 179,
     "metadata": {},
     "output_type": "execute_result"
    }
   ],
   "source": [
    "next(g)"
   ]
  },
  {
   "cell_type": "code",
   "execution_count": 180,
   "id": "7c3630d9",
   "metadata": {},
   "outputs": [
    {
     "data": {
      "text/plain": [
       "4"
      ]
     },
     "execution_count": 180,
     "metadata": {},
     "output_type": "execute_result"
    }
   ],
   "source": [
    "next(g)"
   ]
  },
  {
   "cell_type": "code",
   "execution_count": 181,
   "id": "1f7bba79",
   "metadata": {},
   "outputs": [
    {
     "data": {
      "text/plain": [
       "9"
      ]
     },
     "execution_count": 181,
     "metadata": {},
     "output_type": "execute_result"
    }
   ],
   "source": [
    "next(g)"
   ]
  },
  {
   "cell_type": "code",
   "execution_count": 182,
   "id": "ab65a2b6",
   "metadata": {},
   "outputs": [
    {
     "data": {
      "text/plain": [
       "16"
      ]
     },
     "execution_count": 182,
     "metadata": {},
     "output_type": "execute_result"
    }
   ],
   "source": [
    "next(g)"
   ]
  },
  {
   "cell_type": "code",
   "execution_count": 183,
   "id": "c30170dc",
   "metadata": {},
   "outputs": [
    {
     "data": {
      "text/plain": [
       "25"
      ]
     },
     "execution_count": 183,
     "metadata": {},
     "output_type": "execute_result"
    }
   ],
   "source": [
    "next(g)"
   ]
  },
  {
   "cell_type": "code",
   "execution_count": 184,
   "id": "08b0c453",
   "metadata": {},
   "outputs": [
    {
     "name": "stdout",
     "output_type": "stream",
     "text": [
      "1\n",
      "4\n",
      "9\n",
      "16\n",
      "25\n"
     ]
    }
   ],
   "source": [
    "g = (x*x for x in [1, 2, 3, 4, 5])\n",
    "\n",
    "for e in g:\n",
    "    print(e)"
   ]
  },
  {
   "cell_type": "markdown",
   "id": "2a2b04d9",
   "metadata": {},
   "source": [
    "## Generator'ı List'e Dönüştürme"
   ]
  },
  {
   "cell_type": "code",
   "execution_count": 185,
   "id": "24912ee5",
   "metadata": {},
   "outputs": [],
   "source": [
    "g = (x*x for x in [1, 2, 3, 4, 5])"
   ]
  },
  {
   "cell_type": "code",
   "execution_count": 186,
   "id": "bb207960",
   "metadata": {},
   "outputs": [
    {
     "data": {
      "text/plain": [
       "[1, 4, 9, 16, 25]"
      ]
     },
     "execution_count": 186,
     "metadata": {},
     "output_type": "execute_result"
    }
   ],
   "source": [
    "list(g)"
   ]
  },
  {
   "cell_type": "code",
   "execution_count": 187,
   "id": "0d8a4fc4",
   "metadata": {},
   "outputs": [],
   "source": [
    "l = [1, 2, 3, 4, 5, 6]"
   ]
  },
  {
   "cell_type": "code",
   "execution_count": 188,
   "id": "fb6998f2",
   "metadata": {},
   "outputs": [],
   "source": [
    "g = square_generator(l)"
   ]
  },
  {
   "cell_type": "code",
   "execution_count": 189,
   "id": "3a44cce0",
   "metadata": {},
   "outputs": [
    {
     "data": {
      "text/plain": [
       "[1, 4, 9, 16, 25, 36]"
      ]
     },
     "execution_count": 189,
     "metadata": {},
     "output_type": "execute_result"
    }
   ],
   "source": [
    "list(g)"
   ]
  },
  {
   "cell_type": "markdown",
   "id": "af91b0bb",
   "metadata": {},
   "source": [
    "## Generators\n",
    "\n",
    "- Kısa yoldan iterator yaratmamıza olanak sağlar\n",
    "- Uğraştıklarımız az elemanlar olunca çok farkını anlamayabiliriz ama fazla sayıda elemanlarla uğraşıyorsak, hepsini bir anda hafızada tutmaya çalışmak çok yer kaplayabilir. Generator'lar istendiğinde elemanları döndürdükleri için bu hafıza sorununa iyi gelebilirler\n",
    "- **list(generator)** yaptığımız zaman bu özelliğini kaybeder"
   ]
  },
  {
   "cell_type": "markdown",
   "id": "44683594",
   "metadata": {},
   "source": [
    "## Generator Exercise"
   ]
  },
  {
   "cell_type": "code",
   "execution_count": 190,
   "id": "475989e4",
   "metadata": {},
   "outputs": [],
   "source": [
    "# range() benzeri fonkisyon oluşturma"
   ]
  },
  {
   "cell_type": "code",
   "execution_count": 191,
   "id": "6cde957b",
   "metadata": {},
   "outputs": [],
   "source": [
    "def range_generator(start, end, step):\n",
    "    current = start\n",
    "    \n",
    "    while current < end:\n",
    "        yield current\n",
    "        current += step"
   ]
  },
  {
   "cell_type": "code",
   "execution_count": 192,
   "id": "056ed70f",
   "metadata": {},
   "outputs": [],
   "source": [
    "r = range_generator(1, 20, 3)"
   ]
  },
  {
   "cell_type": "code",
   "execution_count": 193,
   "id": "532b4c61",
   "metadata": {},
   "outputs": [
    {
     "data": {
      "text/plain": [
       "1"
      ]
     },
     "execution_count": 193,
     "metadata": {},
     "output_type": "execute_result"
    }
   ],
   "source": [
    "next(r)"
   ]
  },
  {
   "cell_type": "code",
   "execution_count": 194,
   "id": "f5b776a3",
   "metadata": {},
   "outputs": [
    {
     "data": {
      "text/plain": [
       "4"
      ]
     },
     "execution_count": 194,
     "metadata": {},
     "output_type": "execute_result"
    }
   ],
   "source": [
    "next(r)"
   ]
  },
  {
   "cell_type": "code",
   "execution_count": 195,
   "id": "7cdf5366",
   "metadata": {},
   "outputs": [
    {
     "data": {
      "text/plain": [
       "7"
      ]
     },
     "execution_count": 195,
     "metadata": {},
     "output_type": "execute_result"
    }
   ],
   "source": [
    "next(r)"
   ]
  },
  {
   "cell_type": "code",
   "execution_count": 196,
   "id": "cbaf25ee",
   "metadata": {},
   "outputs": [
    {
     "data": {
      "text/plain": [
       "10"
      ]
     },
     "execution_count": 196,
     "metadata": {},
     "output_type": "execute_result"
    }
   ],
   "source": [
    "next(r)"
   ]
  },
  {
   "cell_type": "code",
   "execution_count": 197,
   "id": "8660c840",
   "metadata": {},
   "outputs": [
    {
     "data": {
      "text/plain": [
       "13"
      ]
     },
     "execution_count": 197,
     "metadata": {},
     "output_type": "execute_result"
    }
   ],
   "source": [
    "next(r)"
   ]
  },
  {
   "cell_type": "code",
   "execution_count": 198,
   "id": "67aca010",
   "metadata": {},
   "outputs": [
    {
     "data": {
      "text/plain": [
       "16"
      ]
     },
     "execution_count": 198,
     "metadata": {},
     "output_type": "execute_result"
    }
   ],
   "source": [
    "next(r)"
   ]
  },
  {
   "cell_type": "code",
   "execution_count": 199,
   "id": "01a80f3e",
   "metadata": {},
   "outputs": [
    {
     "data": {
      "text/plain": [
       "19"
      ]
     },
     "execution_count": 199,
     "metadata": {},
     "output_type": "execute_result"
    }
   ],
   "source": [
    "next(r)"
   ]
  },
  {
   "cell_type": "code",
   "execution_count": 200,
   "id": "8536e048",
   "metadata": {},
   "outputs": [
    {
     "name": "stdout",
     "output_type": "stream",
     "text": [
      "1\n",
      "4\n",
      "7\n",
      "10\n",
      "13\n",
      "16\n",
      "19\n"
     ]
    }
   ],
   "source": [
    "r = range_generator(1, 20, 3)\n",
    "\n",
    "for e in r:\n",
    "    print(e)"
   ]
  }
 ],
 "metadata": {
  "kernelspec": {
   "display_name": "Python 3",
   "language": "python",
   "name": "python3"
  },
  "language_info": {
   "codemirror_mode": {
    "name": "ipython",
    "version": 3
   },
   "file_extension": ".py",
   "mimetype": "text/x-python",
   "name": "python",
   "nbconvert_exporter": "python",
   "pygments_lexer": "ipython3",
   "version": "3.8.8"
  }
 },
 "nbformat": 4,
 "nbformat_minor": 5
}
